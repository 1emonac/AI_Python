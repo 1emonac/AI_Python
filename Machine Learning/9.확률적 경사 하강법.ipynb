{
 "cells": [
  {
   "cell_type": "markdown",
   "id": "3b7d25cf",
   "metadata": {},
   "source": [
    "# 확률적 경사 하강법(Stochastic Gradient Descent)\n",
    "\n",
    "<img src = \"./img/sgd.png\">"
   ]
  },
  {
   "cell_type": "markdown",
   "id": "e6039ce0",
   "metadata": {},
   "source": [
    "- 의의\n",
    "    - 훈련 세트에서 샘플을 하나씩 꺼내 손실 함수의 경사를 따라 최적의 모델을 찾는 알고리즘\n",
    "    - 샘플을 하나 씩 사용하지 않고 여러 개를 사용하면 미니배치 경사 하강법\n",
    "    - 한 번에 전체 샘플을 사용하면 배치 경사하강법\n",
    "    \n",
    "- 손실 함수(Loss Function)\n",
    "    - 확률적 경사 하강법이 최적화할 대상\n",
    "    - 어떤 문제에서 머신러닝 알고리즘이 얼마나 실제값과 오차가 나는지 측정하는 기준\n",
    "    - 손실 함수의 최솟값을 알 수 없기 때문에 조금씩 찾아나가는 과정이 확률적 경사 하강법\n",
    "    \n",
    "- 에포크(Epoch) \n",
    "    - 손실 함수 값을 줄여나가는 과정에서 훈련 세트를 모두 사용하고도 만족할 만한 결과에 도달하지 못했다면 다시 처음부터 훈련 세트를 사용함\n",
    "    - 이렇게 훈련 세트를 한 번 모두 사용하는 과정을 에포크 라고 부름\n",
    "    - 일반적으로 수십 번에서 수백 번 이상 에포크를 수행함\n",
    "    \n",
    "- 특징\n",
    "    - 샘플 데이터 셋에 대해서만 경사를 계산하기 때문에 다루는 데이터가 줄어서 학습 속도가 빠르고 메모리 소량이 적으며, 큰 데이터셋도 학습이 가능함\n",
    "    - (단점) 학습 과정에 진폭이 크고 배치 경사 하강법보다 불안정하게 움직임"
   ]
  },
  {
   "cell_type": "code",
   "execution_count": 2,
   "id": "0a8305d2",
   "metadata": {},
   "outputs": [],
   "source": [
    "import pandas as pd\n",
    "import numpy as np\n",
    "import matplotlib.pyplot as plt\n",
    "from sklearn.model_selection import train_test_split\n",
    "from sklearn.preprocessing import StandardScaler\n",
    "from sklearn.linear_model import SGDClassifier"
   ]
  },
  {
   "cell_type": "code",
   "execution_count": 3,
   "id": "7065ab03",
   "metadata": {},
   "outputs": [],
   "source": [
    "df = pd.read_csv(\"./FISH.csv\")"
   ]
  },
  {
   "cell_type": "code",
   "execution_count": 5,
   "id": "87431510",
   "metadata": {},
   "outputs": [
    {
     "data": {
      "text/html": [
       "<div>\n",
       "<style scoped>\n",
       "    .dataframe tbody tr th:only-of-type {\n",
       "        vertical-align: middle;\n",
       "    }\n",
       "\n",
       "    .dataframe tbody tr th {\n",
       "        vertical-align: top;\n",
       "    }\n",
       "\n",
       "    .dataframe thead th {\n",
       "        text-align: right;\n",
       "    }\n",
       "</style>\n",
       "<table border=\"1\" class=\"dataframe\">\n",
       "  <thead>\n",
       "    <tr style=\"text-align: right;\">\n",
       "      <th></th>\n",
       "      <th>Species</th>\n",
       "      <th>Weight</th>\n",
       "      <th>Length1</th>\n",
       "      <th>Length2</th>\n",
       "      <th>Length3</th>\n",
       "      <th>Height</th>\n",
       "      <th>Width</th>\n",
       "    </tr>\n",
       "  </thead>\n",
       "  <tbody>\n",
       "    <tr>\n",
       "      <th>0</th>\n",
       "      <td>Bream</td>\n",
       "      <td>242.0</td>\n",
       "      <td>23.2</td>\n",
       "      <td>25.4</td>\n",
       "      <td>30.0</td>\n",
       "      <td>11.5200</td>\n",
       "      <td>4.0200</td>\n",
       "    </tr>\n",
       "    <tr>\n",
       "      <th>1</th>\n",
       "      <td>Bream</td>\n",
       "      <td>290.0</td>\n",
       "      <td>24.0</td>\n",
       "      <td>26.3</td>\n",
       "      <td>31.2</td>\n",
       "      <td>12.4800</td>\n",
       "      <td>4.3056</td>\n",
       "    </tr>\n",
       "    <tr>\n",
       "      <th>2</th>\n",
       "      <td>Bream</td>\n",
       "      <td>340.0</td>\n",
       "      <td>23.9</td>\n",
       "      <td>26.5</td>\n",
       "      <td>31.1</td>\n",
       "      <td>12.3778</td>\n",
       "      <td>4.6961</td>\n",
       "    </tr>\n",
       "    <tr>\n",
       "      <th>3</th>\n",
       "      <td>Bream</td>\n",
       "      <td>363.0</td>\n",
       "      <td>26.3</td>\n",
       "      <td>29.0</td>\n",
       "      <td>33.5</td>\n",
       "      <td>12.7300</td>\n",
       "      <td>4.4555</td>\n",
       "    </tr>\n",
       "    <tr>\n",
       "      <th>4</th>\n",
       "      <td>Bream</td>\n",
       "      <td>430.0</td>\n",
       "      <td>26.5</td>\n",
       "      <td>29.0</td>\n",
       "      <td>34.0</td>\n",
       "      <td>12.4440</td>\n",
       "      <td>5.1340</td>\n",
       "    </tr>\n",
       "  </tbody>\n",
       "</table>\n",
       "</div>"
      ],
      "text/plain": [
       "  Species  Weight  Length1  Length2  Length3   Height   Width\n",
       "0   Bream   242.0     23.2     25.4     30.0  11.5200  4.0200\n",
       "1   Bream   290.0     24.0     26.3     31.2  12.4800  4.3056\n",
       "2   Bream   340.0     23.9     26.5     31.1  12.3778  4.6961\n",
       "3   Bream   363.0     26.3     29.0     33.5  12.7300  4.4555\n",
       "4   Bream   430.0     26.5     29.0     34.0  12.4440  5.1340"
      ]
     },
     "execution_count": 5,
     "metadata": {},
     "output_type": "execute_result"
    }
   ],
   "source": [
    "df.head()"
   ]
  },
  {
   "cell_type": "code",
   "execution_count": 8,
   "id": "e9a486aa",
   "metadata": {},
   "outputs": [],
   "source": [
    "x = df.drop([\"Species\", \"Length1\"], axis = 1)\n",
    "y = df[\"Species\"]"
   ]
  },
  {
   "cell_type": "code",
   "execution_count": 9,
   "id": "48599899",
   "metadata": {},
   "outputs": [],
   "source": [
    "x_train, x_test, y_train, y_test = train_test_split(x, y, stratify = y, test_size = 0.25, random_state = 0)"
   ]
  },
  {
   "cell_type": "code",
   "execution_count": 10,
   "id": "12a4f561",
   "metadata": {},
   "outputs": [],
   "source": [
    "ss = StandardScaler()\n",
    "scaled_train = ss.fit_transform(x_train)\n",
    "scaled_test = ss.transform(x_test)"
   ]
  },
  {
   "cell_type": "code",
   "execution_count": 11,
   "id": "c7265b00",
   "metadata": {},
   "outputs": [],
   "source": [
    "sgd = SGDClassifier(loss = \"log\", max_iter = 10, random_state = 0)"
   ]
  },
  {
   "cell_type": "markdown",
   "id": "5a072899",
   "metadata": {},
   "source": [
    "- SGDClassifier의 매개변수\n",
    "    - loss : 손실 함수의 종류를 지정\n",
    "        - log : 로지스틱 손실 함수\n",
    "    - max_iter : 수행할 최대 에포크 횟수"
   ]
  },
  {
   "cell_type": "code",
   "execution_count": 12,
   "id": "5a2086f6",
   "metadata": {},
   "outputs": [
    {
     "name": "stdout",
     "output_type": "stream",
     "text": [
      "0.6386554621848739\n",
      "0.65\n"
     ]
    },
    {
     "name": "stderr",
     "output_type": "stream",
     "text": [
      "C:\\Users\\lg\\anaconda3\\lib\\site-packages\\sklearn\\linear_model\\_stochastic_gradient.py:163: FutureWarning: The loss 'log' was deprecated in v1.1 and will be removed in version 1.3. Use `loss='log_loss'` which is equivalent.\n",
      "  warnings.warn(\n",
      "C:\\Users\\lg\\anaconda3\\lib\\site-packages\\sklearn\\linear_model\\_stochastic_gradient.py:702: ConvergenceWarning: Maximum number of iteration reached before convergence. Consider increasing max_iter to improve the fit.\n",
      "  warnings.warn(\n"
     ]
    }
   ],
   "source": [
    "sgd.fit(scaled_train, y_train)\n",
    "print(sgd.score(scaled_train, y_train))\n",
    "print(sgd.score(scaled_test, y_test))"
   ]
  },
  {
   "cell_type": "markdown",
   "id": "df4feaf9",
   "metadata": {},
   "source": [
    "- ConvergenceWarning : 모델이 충분히 수렴하지 않았음을 알리는 경고\n",
    "- 확률적 경사 하강법은 점진적 학습이 가능함\n",
    "    - SGDClassifier 객체를 다시 만들지 않고 기존 모델을 추가로 훈련하는 것이 가능함"
   ]
  },
  {
   "cell_type": "code",
   "execution_count": 14,
   "id": "6ec45150",
   "metadata": {},
   "outputs": [
    {
     "name": "stdout",
     "output_type": "stream",
     "text": [
      "0.7815126050420168\n",
      "0.75\n"
     ]
    }
   ],
   "source": [
    "sgd.partial_fit(scaled_train, y_train)\n",
    "print(sgd.score(scaled_train, y_train))\n",
    "print(sgd.score(scaled_test, y_test))"
   ]
  },
  {
   "cell_type": "markdown",
   "id": "6f06c27a",
   "metadata": {},
   "source": [
    "## 에포크와 과적합\n",
    "\n",
    "- 에포크 횟수가 적으면 모델이 훈련 세트를 덜 학습하고 과소적합이 일어날 수 있음\n",
    "- 에포크 횟수가 많으면 모델이 훈련 세트를 과도하게 학습하고 과대적합이 일어날 수 있음\n",
    "- 훈련 세트 점수는 에포크가 진행될수록 꾸준히 증가하지만 테스트 세트 점수는 어느 순간 감소하기 시작함\n",
    "    - 테스트 세트 점수가 감소하는 지점이 과대적합이 시작되는 지점\n",
    "    - 과대적합이 시작하기 전에 훈련을 멈추는 것을 조기종료(Early Stopping)이라고 함"
   ]
  },
  {
   "cell_type": "code",
   "execution_count": 15,
   "id": "c7227ae6",
   "metadata": {},
   "outputs": [],
   "source": [
    "sgd = SGDClassifier(loss = \"log_loss\", random_state = 0)\n",
    "train_score = []\n",
    "test_score = []\n",
    "classes = np.unique(y_train)"
   ]
  },
  {
   "cell_type": "code",
   "execution_count": 26,
   "id": "0f10748b",
   "metadata": {},
   "outputs": [],
   "source": [
    "for _ in range(300):\n",
    "    sgd.partial_fit(scaled_train, y_train, classes = classes)\n",
    "    train_score.append(sgd.score(scaled_train, y_train))\n",
    "    test_score.append(sgd.score(scaled_test, y_test))"
   ]
  },
  {
   "cell_type": "code",
   "execution_count": 27,
   "id": "4ba3e53c",
   "metadata": {},
   "outputs": [
    {
     "data": {
      "image/png": "[encoded data removed]",
      "text/plain": [
       "<Figure size 640x480 with 1 Axes>"
      ]
     },
     "metadata": {},
     "output_type": "display_data"
    }
   ],
   "source": [
    "plt.figure()\n",
    "\n",
    "plt.plot(train_score)\n",
    "plt.plot(test_score)\n",
    "\n",
    "plt.xlabel(\"epochs\")\n",
    "plt.ylabel(\"accuracy\")\n",
    "\n",
    "plt.show()"
   ]
  },
  {
   "cell_type": "code",
   "execution_count": 28,
   "id": "da1a7846",
   "metadata": {},
   "outputs": [
    {
     "data": {
      "text/plain": [
       "180"
      ]
     },
     "execution_count": 28,
     "metadata": {},
     "output_type": "execute_result"
    }
   ],
   "source": [
    "np.argmax(test_score)"
   ]
  },
  {
   "cell_type": "code",
   "execution_count": 29,
   "id": "2b60ef19",
   "metadata": {},
   "outputs": [
    {
     "name": "stdout",
     "output_type": "stream",
     "text": [
      "0.957983193277311\n",
      "0.85\n"
     ]
    }
   ],
   "source": [
    "sgd = SGDClassifier(loss = \"log_loss\", max_iter = 180, tol = None, random_state = 0)\n",
    "sgd.fit(scaled_train, y_train)\n",
    "print(sgd.score(scaled_train, y_train))\n",
    "print(sgd.score(scaled_test, y_test))"
   ]
  },
  {
   "cell_type": "markdown",
   "id": "71ee99d2",
   "metadata": {},
   "source": [
    "- SGDClassifer는 일정 에포크 동안 성능이 향상되지 않으면 자동으로 훈련을 멈추고 종료함\n",
    "    - tol 매개변수에서 최소 향상값을 지정\n",
    "    - tal이 None이 되면 자동으로 멈추지 않고 max_iter만큼 반복함"
   ]
  },
  {
   "cell_type": "code",
   "execution_count": 30,
   "id": "8834edbd",
   "metadata": {},
   "outputs": [
    {
     "name": "stdout",
     "output_type": "stream",
     "text": [
      "0.9159663865546218\n",
      "0.725\n"
     ]
    }
   ],
   "source": [
    "sgd_hinge = SGDClassifier(loss = \"hinge\", max_iter = 180, tol = None, random_state = 0)\n",
    "sgd_hinge.fit(scaled_train, y_train)\n",
    "print(sgd_hinge.score(scaled_train, y_train))\n",
    "print(sgd_hinge.score(scaled_test, y_test))"
   ]
  },
  {
   "cell_type": "markdown",
   "id": "e82c8496",
   "metadata": {},
   "source": [
    "- SGDClassifier의 loss 매개변수의 기본값은 hinge(힌지 손실)임\n",
    "- 힌지 손실은 support vector machine(서포트 벡터 머신)을 위한 손실 함수\n",
    "- SGDClassifier는 다양한 손실함수를 지원함"
   ]
  }
 ],
 "metadata": {
  "kernelspec": {
   "display_name": "Python 3 (ipykernel)",
   "language": "python",
   "name": "python3"
  },
  "language_info": {
   "codemirror_mode": {
    "name": "ipython",
    "version": 3
   },
   "file_extension": ".py",
   "mimetype": "text/x-python",
   "name": "python",
   "nbconvert_exporter": "python",
   "pygments_lexer": "ipython3",
   "version": "3.10.9"
  }
 },
 "nbformat": 4,
 "nbformat_minor": 5
}
