{
 "cells": [
  {
   "cell_type": "code",
   "execution_count": 3,
   "id": "aff9aac4",
   "metadata": {},
   "outputs": [],
   "source": [
    "import numpy as np"
   ]
  },
  {
   "cell_type": "markdown",
   "id": "a6b07faf",
   "metadata": {},
   "source": [
    "# 넘파이 배열의 구조\n",
    "\n",
    "- 넘파이 모듈의 기본 배열은 ndarray(n-dimension array, 다차원배열)\n"
   ]
  },
  {
   "cell_type": "markdown",
   "id": "2ff2f08d",
   "metadata": {},
   "source": [
    "## 리스트를 다차원배열로 변환"
   ]
  },
  {
   "cell_type": "code",
   "execution_count": 4,
   "id": "3871a5b4",
   "metadata": {},
   "outputs": [],
   "source": [
    "# array : 다차원 배열을 만드는 함수\n",
    "li = [1,2,3,4]\n",
    "li_arr = np.array(li)"
   ]
  },
  {
   "cell_type": "code",
   "execution_count": 5,
   "id": "5b27f1e9",
   "metadata": {},
   "outputs": [
    {
     "data": {
      "text/plain": [
       "array([1, 2, 3, 4])"
      ]
     },
     "execution_count": 5,
     "metadata": {},
     "output_type": "execute_result"
    }
   ],
   "source": [
    "li_arr"
   ]
  },
  {
   "cell_type": "code",
   "execution_count": 6,
   "id": "11570a04",
   "metadata": {},
   "outputs": [
    {
     "data": {
      "text/plain": [
       "numpy.ndarray"
      ]
     },
     "execution_count": 6,
     "metadata": {},
     "output_type": "execute_result"
    }
   ],
   "source": [
    "type(li_arr)"
   ]
  },
  {
   "cell_type": "markdown",
   "id": "95a3b782",
   "metadata": {},
   "source": [
    "튜플을 다차원배열로 변환"
   ]
  },
  {
   "cell_type": "code",
   "execution_count": 7,
   "id": "d429cd2c",
   "metadata": {},
   "outputs": [],
   "source": [
    "tu = (1,2,3,4)\n",
    "tu_arr = np.array(tu)"
   ]
  },
  {
   "cell_type": "code",
   "execution_count": 8,
   "id": "82e47440",
   "metadata": {},
   "outputs": [
    {
     "data": {
      "text/plain": [
       "array([1, 2, 3, 4])"
      ]
     },
     "execution_count": 8,
     "metadata": {},
     "output_type": "execute_result"
    }
   ],
   "source": [
    "tu_arr"
   ]
  },
  {
   "cell_type": "code",
   "execution_count": 9,
   "id": "63a9e9da",
   "metadata": {},
   "outputs": [
    {
     "data": {
      "text/plain": [
       "numpy.ndarray"
      ]
     },
     "execution_count": 9,
     "metadata": {},
     "output_type": "execute_result"
    }
   ],
   "source": [
    "type(tu_arr)"
   ]
  },
  {
   "cell_type": "markdown",
   "id": "c0af7e21",
   "metadata": {},
   "source": [
    "- 파이썬 리스트는 다양한 자료형을 사용할 수 있지만 넘파이 배열은 같은 자료형만 넣을 수 있음\n",
    "    - 다차원 배열을 생성할 때 자료형을 지정하지 않으면 내부의 원소를 보고 자동으로 추론해서 만듦"
   ]
  },
  {
   "cell_type": "markdown",
   "id": "52b121bd",
   "metadata": {},
   "source": [
    "## float 자료형을 지정해서 다차원 배열 만들기"
   ]
  },
  {
   "cell_type": "code",
   "execution_count": 10,
   "id": "602b70b8",
   "metadata": {},
   "outputs": [],
   "source": [
    "fl_arr = np.array(li, dtype=float)"
   ]
  },
  {
   "cell_type": "code",
   "execution_count": 11,
   "id": "e0f7e0c0",
   "metadata": {},
   "outputs": [
    {
     "data": {
      "text/plain": [
       "array([1., 2., 3., 4.])"
      ]
     },
     "execution_count": 11,
     "metadata": {},
     "output_type": "execute_result"
    }
   ],
   "source": [
    "fl_arr"
   ]
  },
  {
   "cell_type": "code",
   "execution_count": 12,
   "id": "c1b12182",
   "metadata": {},
   "outputs": [
    {
     "data": {
      "text/plain": [
       "dtype('float64')"
      ]
     },
     "execution_count": 12,
     "metadata": {},
     "output_type": "execute_result"
    }
   ],
   "source": [
    "fl_arr.dtype"
   ]
  },
  {
   "cell_type": "markdown",
   "id": "27890f06",
   "metadata": {},
   "source": [
    "## 2차원 배열이란\n",
    "\n",
    "- 2개의 축을 가지는 배열(행, 열)\n",
    "    - 두 개의 1차원 배열이 쌓여서 하나의 2차원 배열이 만들어짐"
   ]
  },
  {
   "cell_type": "code",
   "execution_count": 13,
   "id": "8cca3a8f",
   "metadata": {},
   "outputs": [],
   "source": [
    "arr2d = np.array([[1,2,3], [4,5,6]])"
   ]
  },
  {
   "cell_type": "code",
   "execution_count": 14,
   "id": "ae292840",
   "metadata": {},
   "outputs": [
    {
     "data": {
      "text/plain": [
       "array([[1, 2, 3],\n",
       "       [4, 5, 6]])"
      ]
     },
     "execution_count": 14,
     "metadata": {},
     "output_type": "execute_result"
    }
   ],
   "source": [
    "arr2d"
   ]
  },
  {
   "cell_type": "code",
   "execution_count": 15,
   "id": "b87dbac3",
   "metadata": {},
   "outputs": [
    {
     "data": {
      "text/plain": [
       "(2, 3)"
      ]
     },
     "execution_count": 15,
     "metadata": {},
     "output_type": "execute_result"
    }
   ],
   "source": [
    "# 각 축의 원소의 개수\n",
    "arr2d.shape"
   ]
  },
  {
   "cell_type": "markdown",
   "id": "d73690cc",
   "metadata": {},
   "source": [
    "- 3개의 원소가 그룹을 이루고 있다, 그 그룹이 2개 뭉쳐져 있는 형상이다 - 3개의 집이 모여 있는 집이 2개의 층으로 쌓여 있다."
   ]
  },
  {
   "cell_type": "code",
   "execution_count": 16,
   "id": "0ee21ae3",
   "metadata": {},
   "outputs": [
    {
     "data": {
      "text/plain": [
       "2"
      ]
     },
     "execution_count": 16,
     "metadata": {},
     "output_type": "execute_result"
    }
   ],
   "source": [
    "# 축의 개수\n",
    "arr2d.ndim"
   ]
  },
  {
   "cell_type": "code",
   "execution_count": 17,
   "id": "d1d6701a",
   "metadata": {},
   "outputs": [
    {
     "data": {
      "text/plain": [
       "dtype('int32')"
      ]
     },
     "execution_count": 17,
     "metadata": {},
     "output_type": "execute_result"
    }
   ],
   "source": [
    "arr2d.dtype"
   ]
  },
  {
   "cell_type": "code",
   "execution_count": 18,
   "id": "9633cdf3",
   "metadata": {},
   "outputs": [
    {
     "data": {
      "text/plain": [
       "array([1, 2, 3, 4, 5, 6])"
      ]
     },
     "execution_count": 18,
     "metadata": {},
     "output_type": "execute_result"
    }
   ],
   "source": [
    "# 다차원 배열을 1차원 배열로 조회\n",
    "arr2d.flatten()"
   ]
  },
  {
   "cell_type": "markdown",
   "id": "aef9502a",
   "metadata": {},
   "source": [
    "## 1차원 배열에서 원소 조회하기"
   ]
  },
  {
   "cell_type": "code",
   "execution_count": 19,
   "id": "dd36fd33",
   "metadata": {},
   "outputs": [
    {
     "data": {
      "text/plain": [
       "array([1, 2, 3, 4])"
      ]
     },
     "execution_count": 19,
     "metadata": {},
     "output_type": "execute_result"
    }
   ],
   "source": [
    "li_arr"
   ]
  },
  {
   "cell_type": "code",
   "execution_count": 20,
   "id": "ed3485cc",
   "metadata": {},
   "outputs": [
    {
     "data": {
      "text/plain": [
       "1"
      ]
     },
     "execution_count": 20,
     "metadata": {},
     "output_type": "execute_result"
    }
   ],
   "source": [
    "li_arr[0]"
   ]
  },
  {
   "cell_type": "code",
   "execution_count": 21,
   "id": "4bbf6e52",
   "metadata": {},
   "outputs": [
    {
     "data": {
      "text/plain": [
       "4"
      ]
     },
     "execution_count": 21,
     "metadata": {},
     "output_type": "execute_result"
    }
   ],
   "source": [
    "li_arr[-1]"
   ]
  },
  {
   "cell_type": "markdown",
   "id": "95b2dfd0",
   "metadata": {},
   "source": [
    "## 다차원배열에서 원소 조회하기"
   ]
  },
  {
   "cell_type": "code",
   "execution_count": 22,
   "id": "834752c1",
   "metadata": {},
   "outputs": [],
   "source": [
    "# 다차원배열을 리스트로 변환\n",
    "list2d = arr2d.tolist()"
   ]
  },
  {
   "cell_type": "code",
   "execution_count": 23,
   "id": "76fe19a8",
   "metadata": {},
   "outputs": [
    {
     "data": {
      "text/plain": [
       "[[1, 2, 3], [4, 5, 6]]"
      ]
     },
     "execution_count": 23,
     "metadata": {},
     "output_type": "execute_result"
    }
   ],
   "source": [
    "list2d"
   ]
  },
  {
   "cell_type": "code",
   "execution_count": 24,
   "id": "c87710f2",
   "metadata": {},
   "outputs": [
    {
     "data": {
      "text/plain": [
       "array([[1, 2, 3],\n",
       "       [4, 5, 6]])"
      ]
     },
     "execution_count": 24,
     "metadata": {},
     "output_type": "execute_result"
    }
   ],
   "source": [
    "arr2d"
   ]
  },
  {
   "cell_type": "code",
   "execution_count": 26,
   "id": "4f89d126",
   "metadata": {},
   "outputs": [
    {
     "data": {
      "text/plain": [
       "2"
      ]
     },
     "execution_count": 26,
     "metadata": {},
     "output_type": "execute_result"
    }
   ],
   "source": [
    "# 리스트는 정수만 이용해서 원소 조회 가능\n",
    "# 따라서 리스트 내 리스트의 원소를 조회할 때는 인덱스를 두 번 사용해야함\n",
    "list2d[0][1]"
   ]
  },
  {
   "cell_type": "code",
   "execution_count": 27,
   "id": "60e1c1e5",
   "metadata": {},
   "outputs": [
    {
     "data": {
      "text/plain": [
       "2"
      ]
     },
     "execution_count": 27,
     "metadata": {},
     "output_type": "execute_result"
    }
   ],
   "source": [
    "# 다차원 배열은 행과 열의 인덱스를 튜플로 조회할 수 있음\n",
    "arr2d[0,1]"
   ]
  },
  {
   "cell_type": "code",
   "execution_count": 28,
   "id": "1da0890e",
   "metadata": {},
   "outputs": [
    {
     "data": {
      "text/plain": [
       "2"
      ]
     },
     "execution_count": 28,
     "metadata": {},
     "output_type": "execute_result"
    }
   ],
   "source": [
    "arr2d[0][1]"
   ]
  },
  {
   "cell_type": "markdown",
   "id": "95fe9782",
   "metadata": {},
   "source": [
    "### 슬라이싱"
   ]
  },
  {
   "cell_type": "code",
   "execution_count": 29,
   "id": "1758c8ff",
   "metadata": {},
   "outputs": [],
   "source": [
    "arr1 = np.array([[0,1,2,3], [4,5,6,7]])"
   ]
  },
  {
   "cell_type": "code",
   "execution_count": 30,
   "id": "d5f8fda7",
   "metadata": {},
   "outputs": [
    {
     "data": {
      "text/plain": [
       "array([[0, 1, 2, 3],\n",
       "       [4, 5, 6, 7]])"
      ]
     },
     "execution_count": 30,
     "metadata": {},
     "output_type": "execute_result"
    }
   ],
   "source": [
    "arr1"
   ]
  },
  {
   "cell_type": "code",
   "execution_count": 31,
   "id": "d6a05cd7",
   "metadata": {},
   "outputs": [
    {
     "data": {
      "text/plain": [
       "array([0, 1, 2, 3])"
      ]
     },
     "execution_count": 31,
     "metadata": {},
     "output_type": "execute_result"
    }
   ],
   "source": [
    "# 첫 번째 행(가로) 전체\n",
    "arr1[0,:] # 0번째 배열의 전체"
   ]
  },
  {
   "cell_type": "code",
   "execution_count": 32,
   "id": "993348c8",
   "metadata": {},
   "outputs": [
    {
     "data": {
      "text/plain": [
       "array([1, 5])"
      ]
     },
     "execution_count": 32,
     "metadata": {},
     "output_type": "execute_result"
    }
   ],
   "source": [
    "# 두 번째 열(세로) 전체\n",
    "arr1[:, 1]"
   ]
  },
  {
   "cell_type": "code",
   "execution_count": 33,
   "id": "4ea6c3d1",
   "metadata": {},
   "outputs": [
    {
     "data": {
      "text/plain": [
       "array([5, 6, 7])"
      ]
     },
     "execution_count": 33,
     "metadata": {},
     "output_type": "execute_result"
    }
   ],
   "source": [
    "# 두 번째 행의 두 번째 열부터 끝까지\n",
    "arr1[1, 1:]"
   ]
  },
  {
   "cell_type": "code",
   "execution_count": 35,
   "id": "c20c55c2",
   "metadata": {},
   "outputs": [
    {
     "data": {
      "text/plain": [
       "array([[0, 1],\n",
       "       [4, 5]])"
      ]
     },
     "execution_count": 35,
     "metadata": {},
     "output_type": "execute_result"
    }
   ],
   "source": [
    "#각 행의 두 번째 열까지\n",
    "arr1[:, :2]"
   ]
  },
  {
   "cell_type": "markdown",
   "id": "ab0d4dcc",
   "metadata": {},
   "source": [
    "## 파이썬 리스트와 넘파이 배열의 차이\n",
    "\n",
    "- 넘파이 배열은 배열끼리 연산이 가능하지만 파이썬 리스트는 값의 추가만 가능하다\n",
    "- 넘파이 배열은 숫자와의 연산도 가능하지만 파이썬 리스트는 불가능하다\n",
    "    - 파이썬 리스트 : 곱셈으로 리스트 요소를 반복하는 것은 가능\n",
    "- 사용 용도\n",
    "    - 파이썬 리스트는 값을 추가하거나 제거하는 일에 사용\n",
    "    - 넘파이 배열은 수치 계산이 많고 복잡하거나 다차원배열이 필요할 때 사용"
   ]
  },
  {
   "cell_type": "markdown",
   "id": "8512185f",
   "metadata": {},
   "source": [
    "# 확인문제\n",
    "\n",
    "1. 아래의 행렬에서 값 7을 인덱싱\n",
    "2. 아래의 행렬에서 값 14를 인덱싱\n",
    "3. 아래의 행렬에서 배열[6,7]을 슬라이싱\n",
    "4. 아래의 행렬에서 배열[7, 12]를 슬라이싱\n",
    "5. 아래의 행렬에서 배열 [[3, 4], [8, 9]]를 슬라이싱"
   ]
  },
  {
   "cell_type": "code",
   "execution_count": 38,
   "id": "193e57b6",
   "metadata": {},
   "outputs": [],
   "source": [
    "m = np.array([[0,1,2, 3, 4],\n",
    "             [5, 6, 7, 8, 9],\n",
    "             [10, 11, 12, 13, 14]])"
   ]
  },
  {
   "cell_type": "code",
   "execution_count": 39,
   "id": "47253c47",
   "metadata": {},
   "outputs": [
    {
     "data": {
      "text/plain": [
       "7"
      ]
     },
     "execution_count": 39,
     "metadata": {},
     "output_type": "execute_result"
    }
   ],
   "source": [
    "# 1. 값 7을 인덱싱\n",
    "m[1, 2]"
   ]
  },
  {
   "cell_type": "code",
   "execution_count": 40,
   "id": "6f3ce243",
   "metadata": {},
   "outputs": [
    {
     "data": {
      "text/plain": [
       "14"
      ]
     },
     "execution_count": 40,
     "metadata": {},
     "output_type": "execute_result"
    }
   ],
   "source": [
    "# 2. 값 14를 인덱싱\n",
    "m[2, -1] # [-1, -1], [2, 4]"
   ]
  },
  {
   "cell_type": "code",
   "execution_count": 41,
   "id": "c433f317",
   "metadata": {},
   "outputs": [
    {
     "data": {
      "text/plain": [
       "array([6, 7])"
      ]
     },
     "execution_count": 41,
     "metadata": {},
     "output_type": "execute_result"
    }
   ],
   "source": [
    "# 3. 배열[6,7]을 슬라이싱\n",
    "m[1, 1:3]"
   ]
  },
  {
   "cell_type": "code",
   "execution_count": 43,
   "id": "0a6092c8",
   "metadata": {},
   "outputs": [
    {
     "data": {
      "text/plain": [
       "array([ 7, 12])"
      ]
     },
     "execution_count": 43,
     "metadata": {},
     "output_type": "execute_result"
    }
   ],
   "source": [
    "# 4. 배열[7, 12]를 슬라이싱\n",
    "m[1:3, 2] #[1:, 2]"
   ]
  },
  {
   "cell_type": "code",
   "execution_count": 50,
   "id": "03fbf3b0",
   "metadata": {},
   "outputs": [
    {
     "data": {
      "text/plain": [
       "array([[3, 4],\n",
       "       [8, 9]])"
      ]
     },
     "execution_count": 50,
     "metadata": {},
     "output_type": "execute_result"
    }
   ],
   "source": [
    "# 5. 배열 [[3, 4], [8, 9]]를 슬라이싱\n",
    "m[0:2, 3:5] # [:2, 3:]"
   ]
  },
  {
   "cell_type": "markdown",
   "id": "2708edfe",
   "metadata": {},
   "source": [
    "# 전치 연산(transpose)\n",
    "\n",
    "- 2차원 배열의 행과 열을 바꾸는 연산"
   ]
  },
  {
   "cell_type": "code",
   "execution_count": 51,
   "id": "3f16a44e",
   "metadata": {},
   "outputs": [],
   "source": [
    "arr = np.array([[1,2,3,], [4,5,6]])"
   ]
  },
  {
   "cell_type": "code",
   "execution_count": 52,
   "id": "462e399a",
   "metadata": {},
   "outputs": [
    {
     "data": {
      "text/plain": [
       "array([[1, 2, 3],\n",
       "       [4, 5, 6]])"
      ]
     },
     "execution_count": 52,
     "metadata": {},
     "output_type": "execute_result"
    }
   ],
   "source": [
    "arr"
   ]
  },
  {
   "cell_type": "code",
   "execution_count": 53,
   "id": "bb085fa2",
   "metadata": {},
   "outputs": [
    {
     "data": {
      "text/plain": [
       "(2, 3)"
      ]
     },
     "execution_count": 53,
     "metadata": {},
     "output_type": "execute_result"
    }
   ],
   "source": [
    "arr.shape"
   ]
  },
  {
   "cell_type": "code",
   "execution_count": 54,
   "id": "699834c8",
   "metadata": {},
   "outputs": [
    {
     "data": {
      "text/plain": [
       "array([[1, 4],\n",
       "       [2, 5],\n",
       "       [3, 6]])"
      ]
     },
     "execution_count": 54,
     "metadata": {},
     "output_type": "execute_result"
    }
   ],
   "source": [
    "arr.T # T를 붙여서 배열을 일회적으로 바꿈!"
   ]
  },
  {
   "cell_type": "code",
   "execution_count": 55,
   "id": "e904d36f",
   "metadata": {},
   "outputs": [
    {
     "data": {
      "text/plain": [
       "array([[1, 2, 3],\n",
       "       [4, 5, 6]])"
      ]
     },
     "execution_count": 55,
     "metadata": {},
     "output_type": "execute_result"
    }
   ],
   "source": [
    "arr # 원본 데이터는 그대로임!"
   ]
  },
  {
   "cell_type": "code",
   "execution_count": 56,
   "id": "fab72c27",
   "metadata": {},
   "outputs": [
    {
     "data": {
      "text/plain": [
       "(2, 3)"
      ]
     },
     "execution_count": 56,
     "metadata": {},
     "output_type": "execute_result"
    }
   ],
   "source": [
    "arr.shape # (행, 열"
   ]
  },
  {
   "cell_type": "code",
   "execution_count": 57,
   "id": "1252303f",
   "metadata": {},
   "outputs": [
    {
     "data": {
      "text/plain": [
       "(3, 2)"
      ]
     },
     "execution_count": 57,
     "metadata": {},
     "output_type": "execute_result"
    }
   ],
   "source": [
    "arr.T.shape # (행, 열)"
   ]
  },
  {
   "cell_type": "markdown",
   "id": "f02800b8",
   "metadata": {},
   "source": [
    "# 배열 크기 변형"
   ]
  },
  {
   "cell_type": "code",
   "execution_count": 58,
   "id": "f3d45f89",
   "metadata": {},
   "outputs": [],
   "source": [
    "arr1 = np.arange(12)"
   ]
  },
  {
   "cell_type": "code",
   "execution_count": 59,
   "id": "5e4f22cb",
   "metadata": {},
   "outputs": [
    {
     "data": {
      "text/plain": [
       "array([ 0,  1,  2,  3,  4,  5,  6,  7,  8,  9, 10, 11])"
      ]
     },
     "execution_count": 59,
     "metadata": {},
     "output_type": "execute_result"
    }
   ],
   "source": [
    "arr1"
   ]
  },
  {
   "cell_type": "code",
   "execution_count": 63,
   "id": "c04a98d9",
   "metadata": {},
   "outputs": [],
   "source": [
    "arr2 = arr1.reshape(3, 4)"
   ]
  },
  {
   "cell_type": "code",
   "execution_count": 64,
   "id": "5965d5be",
   "metadata": {},
   "outputs": [
    {
     "data": {
      "text/plain": [
       "array([[ 0,  1,  2,  3],\n",
       "       [ 4,  5,  6,  7],\n",
       "       [ 8,  9, 10, 11]])"
      ]
     },
     "execution_count": 64,
     "metadata": {},
     "output_type": "execute_result"
    }
   ],
   "source": [
    "arr2"
   ]
  },
  {
   "cell_type": "markdown",
   "id": "1add3520",
   "metadata": {},
   "source": [
    "- 사용하는 원소의 수가 정해져 있기 때문에 reshape의 형태 원소 중 하나는 -1로 대체할 수 있음"
   ]
  },
  {
   "cell_type": "code",
   "execution_count": 68,
   "id": "d7b881b2",
   "metadata": {},
   "outputs": [
    {
     "data": {
      "text/plain": [
       "array([[ 0,  1,  2,  3],\n",
       "       [ 4,  5,  6,  7],\n",
       "       [ 8,  9, 10, 11]])"
      ]
     },
     "execution_count": 68,
     "metadata": {},
     "output_type": "execute_result"
    }
   ],
   "source": [
    "arr1.reshape(3, -1) # 한 층에 몇 명씩 넣을지 네가 계산해줘~"
   ]
  },
  {
   "cell_type": "code",
   "execution_count": 69,
   "id": "24f44a0c",
   "metadata": {},
   "outputs": [
    {
     "data": {
      "text/plain": [
       "array([[[ 0,  1,  2],\n",
       "        [ 3,  4,  5]],\n",
       "\n",
       "       [[ 6,  7,  8],\n",
       "        [ 9, 10, 11]]])"
      ]
     },
     "execution_count": 69,
     "metadata": {},
     "output_type": "execute_result"
    }
   ],
   "source": [
    "arr1.reshape(2, 2, -1) # 한 층에 몇 명이 들어갈지는 모르겠는데 2동에 2층짜리를 만들고 싶어~"
   ]
  },
  {
   "cell_type": "code",
   "execution_count": 70,
   "id": "6bb6a7da",
   "metadata": {},
   "outputs": [
    {
     "data": {
      "text/plain": [
       "array([[[ 0,  1],\n",
       "        [ 2,  3],\n",
       "        [ 4,  5]],\n",
       "\n",
       "       [[ 6,  7],\n",
       "        [ 8,  9],\n",
       "        [10, 11]]])"
      ]
     },
     "execution_count": 70,
     "metadata": {},
     "output_type": "execute_result"
    }
   ],
   "source": [
    "arr1.reshape(2, -1, 2) # 아파트 2개 동에 한 층에 2개씩 들어갈건데 몇 층인지는 모르겠어 ~"
   ]
  },
  {
   "cell_type": "markdown",
   "id": "b2fb7724",
   "metadata": {},
   "source": [
    "# 넘파이 함수의 특징\n",
    "\n",
    "- 벡터화 연산\n",
    "    - 벡터와 행렬의 연산은 구성하는 원소별로 처리하는 것이 보통\n",
    "    - 동일한 인덱스의 원소끼리 계산을 처리하는 것을 벡터화 연산이라고 함\n",
    "\n",
    "- 유니버설 함수(Universal function)\n",
    "    - 벡터화 연산을 지원하는 특별한 함수를 유니버설 함수라고 함"
   ]
  },
  {
   "cell_type": "code",
   "execution_count": 71,
   "id": "7a8d40b5",
   "metadata": {},
   "outputs": [],
   "source": [
    "# 일반 파이썬 함수의 타입 확인\n",
    "def test():\n",
    "    pass"
   ]
  },
  {
   "cell_type": "code",
   "execution_count": 72,
   "id": "50dd2065",
   "metadata": {},
   "outputs": [
    {
     "data": {
      "text/plain": [
       "function"
      ]
     },
     "execution_count": 72,
     "metadata": {},
     "output_type": "execute_result"
    }
   ],
   "source": [
    "type(test)"
   ]
  },
  {
   "cell_type": "code",
   "execution_count": 73,
   "id": "46f3f1da",
   "metadata": {},
   "outputs": [
    {
     "data": {
      "text/plain": [
       "numpy.ufunc"
      ]
     },
     "execution_count": 73,
     "metadata": {},
     "output_type": "execute_result"
    }
   ],
   "source": [
    "# 유니버설 함수 확인\n",
    "type(np.add)"
   ]
  },
  {
   "cell_type": "code",
   "execution_count": 74,
   "id": "1d922ad1",
   "metadata": {},
   "outputs": [
    {
     "data": {
      "text/plain": [
       "function"
      ]
     },
     "execution_count": 74,
     "metadata": {},
     "output_type": "execute_result"
    }
   ],
   "source": [
    "# 넘파이에는 유니버설 함수도 있고 일반 함수도 있음\n",
    "type(np.sort)"
   ]
  },
  {
   "cell_type": "code",
   "execution_count": 76,
   "id": "dd7c0ab6",
   "metadata": {},
   "outputs": [
    {
     "data": {
      "text/plain": [
       "[[1, 2, 3], [4, 5, 6], [1, 2, 3], [4, 5, 6]]"
      ]
     },
     "execution_count": 76,
     "metadata": {},
     "output_type": "execute_result"
    }
   ],
   "source": [
    "list2d + list2d"
   ]
  },
  {
   "cell_type": "code",
   "execution_count": 77,
   "id": "20440aa1",
   "metadata": {},
   "outputs": [
    {
     "data": {
      "text/plain": [
       "array([[ 2,  4,  6],\n",
       "       [ 8, 10, 12]])"
      ]
     },
     "execution_count": 77,
     "metadata": {},
     "output_type": "execute_result"
    }
   ],
   "source": [
    "np.add(list2d, list2d) # 벡터화 연산 = 유니버설 함수"
   ]
  },
  {
   "cell_type": "markdown",
   "id": "21f62e32",
   "metadata": {},
   "source": [
    "## 벡터화 연산"
   ]
  },
  {
   "cell_type": "markdown",
   "id": "c40028ec",
   "metadata": {},
   "source": [
    "### 벡터화 연산이 필요한 이유\n",
    "\n",
    "- data리스트 내의 각 값에 2를 곱해야 한다면?"
   ]
  },
  {
   "cell_type": "code",
   "execution_count": 79,
   "id": "84ac42c1",
   "metadata": {},
   "outputs": [],
   "source": [
    "data = list(range(10))"
   ]
  },
  {
   "cell_type": "code",
   "execution_count": 80,
   "id": "30151023",
   "metadata": {},
   "outputs": [
    {
     "data": {
      "text/plain": [
       "[0, 1, 2, 3, 4, 5, 6, 7, 8, 9]"
      ]
     },
     "execution_count": 80,
     "metadata": {},
     "output_type": "execute_result"
    }
   ],
   "source": [
    "data"
   ]
  },
  {
   "cell_type": "markdown",
   "id": "dab49555",
   "metadata": {},
   "source": [
    "### 리스트를 통한 풀이"
   ]
  },
  {
   "cell_type": "code",
   "execution_count": 81,
   "id": "aefab16f",
   "metadata": {},
   "outputs": [
    {
     "data": {
      "text/plain": [
       "[0, 1, 2, 3, 4, 5, 6, 7, 8, 9, 0, 1, 2, 3, 4, 5, 6, 7, 8, 9]"
      ]
     },
     "execution_count": 81,
     "metadata": {},
     "output_type": "execute_result"
    }
   ],
   "source": [
    "data * 2 # 파이썬에서는 리스트 반복된다"
   ]
  },
  {
   "cell_type": "code",
   "execution_count": 82,
   "id": "5049cacd",
   "metadata": {},
   "outputs": [
    {
     "name": "stdout",
     "output_type": "stream",
     "text": [
      "[0, 2, 4, 6, 8, 10, 12, 14, 16, 18]\n"
     ]
    }
   ],
   "source": [
    "ans = []\n",
    "for i in data:\n",
    "    ans.append(i * 2)\n",
    "    \n",
    "print(ans)"
   ]
  },
  {
   "cell_type": "markdown",
   "id": "b16ff9a1",
   "metadata": {},
   "source": [
    "#### 넘파이를 통한 풀이"
   ]
  },
  {
   "cell_type": "code",
   "execution_count": 83,
   "id": "84ffc73a",
   "metadata": {},
   "outputs": [],
   "source": [
    "data = np.array(data)"
   ]
  },
  {
   "cell_type": "code",
   "execution_count": 84,
   "id": "394e6647",
   "metadata": {},
   "outputs": [
    {
     "data": {
      "text/plain": [
       "array([ 0,  2,  4,  6,  8, 10, 12, 14, 16, 18])"
      ]
     },
     "execution_count": 84,
     "metadata": {},
     "output_type": "execute_result"
    }
   ],
   "source": [
    "data * 2"
   ]
  },
  {
   "cell_type": "markdown",
   "id": "bd0c1263",
   "metadata": {},
   "source": [
    "### 넘파이 벡터화 연산\n",
    "\n",
    "- 벡터화 연산은 비교 연산과 논리 연산을 포함한 모든 종류의 수학 연산에 대해 적용됨"
   ]
  },
  {
   "cell_type": "code",
   "execution_count": 85,
   "id": "e6b79dd9",
   "metadata": {},
   "outputs": [],
   "source": [
    "a = np.array([1, 2, 3])\n",
    "b = np.array([10, 20, 30])"
   ]
  },
  {
   "cell_type": "code",
   "execution_count": 86,
   "id": "75924e32",
   "metadata": {},
   "outputs": [
    {
     "data": {
      "text/plain": [
       "array([12, 24, 36])"
      ]
     },
     "execution_count": 86,
     "metadata": {},
     "output_type": "execute_result"
    }
   ],
   "source": [
    "2 * a + b # (2*a)+b"
   ]
  },
  {
   "cell_type": "code",
   "execution_count": 87,
   "id": "7c0b7b2b",
   "metadata": {},
   "outputs": [
    {
     "data": {
      "text/plain": [
       "array([False,  True, False])"
      ]
     },
     "execution_count": 87,
     "metadata": {},
     "output_type": "execute_result"
    }
   ],
   "source": [
    "a == 2"
   ]
  },
  {
   "cell_type": "code",
   "execution_count": 88,
   "id": "711503bd",
   "metadata": {},
   "outputs": [
    {
     "data": {
      "text/plain": [
       "False"
      ]
     },
     "execution_count": 88,
     "metadata": {},
     "output_type": "execute_result"
    }
   ],
   "source": [
    "[1, 2, 3] == 2"
   ]
  },
  {
   "cell_type": "code",
   "execution_count": 89,
   "id": "a38d82de",
   "metadata": {},
   "outputs": [
    {
     "data": {
      "text/plain": [
       "array([False,  True,  True])"
      ]
     },
     "execution_count": 89,
     "metadata": {},
     "output_type": "execute_result"
    }
   ],
   "source": [
    "b > 10"
   ]
  },
  {
   "cell_type": "code",
   "execution_count": 90,
   "id": "36dee470",
   "metadata": {},
   "outputs": [
    {
     "data": {
      "text/plain": [
       "array([False,  True, False])"
      ]
     },
     "execution_count": 90,
     "metadata": {},
     "output_type": "execute_result"
    }
   ],
   "source": [
    "(a == 2) & (b > 10) # &는 두 개의 값이 T & T 일 때 True로 나타냄"
   ]
  },
  {
   "cell_type": "code",
   "execution_count": 91,
   "id": "8d610e6c",
   "metadata": {},
   "outputs": [
    {
     "data": {
      "text/plain": [
       "array([2])"
      ]
     },
     "execution_count": 91,
     "metadata": {},
     "output_type": "execute_result"
    }
   ],
   "source": [
    "a[a == 2]"
   ]
  },
  {
   "cell_type": "markdown",
   "id": "6bcff6e6",
   "metadata": {},
   "source": [
    "- 배열끼리의 연산"
   ]
  },
  {
   "cell_type": "code",
   "execution_count": 93,
   "id": "8ba9038b",
   "metadata": {},
   "outputs": [],
   "source": [
    "arr1 = np.arange(6, 10)"
   ]
  },
  {
   "cell_type": "code",
   "execution_count": 94,
   "id": "dc0b65aa",
   "metadata": {},
   "outputs": [
    {
     "data": {
      "text/plain": [
       "array([6, 7, 8, 9])"
      ]
     },
     "execution_count": 94,
     "metadata": {},
     "output_type": "execute_result"
    }
   ],
   "source": [
    "arr1"
   ]
  },
  {
   "cell_type": "code",
   "execution_count": 95,
   "id": "3d41bf7e",
   "metadata": {},
   "outputs": [],
   "source": [
    "arr2 = np.arange(10, 14)"
   ]
  },
  {
   "cell_type": "code",
   "execution_count": 96,
   "id": "642029fa",
   "metadata": {},
   "outputs": [
    {
     "data": {
      "text/plain": [
       "array([10, 11, 12, 13])"
      ]
     },
     "execution_count": 96,
     "metadata": {},
     "output_type": "execute_result"
    }
   ],
   "source": [
    "arr2"
   ]
  },
  {
   "cell_type": "code",
   "execution_count": 98,
   "id": "13c92f56",
   "metadata": {},
   "outputs": [
    {
     "data": {
      "text/plain": [
       "array([ 60,  77,  96, 117])"
      ]
     },
     "execution_count": 98,
     "metadata": {},
     "output_type": "execute_result"
    }
   ],
   "source": [
    "# 두 개의 다차원 배열을 곱하면 동일한 인덱스의 원소끼리 곱셈한 결과인 1차원 배열이 반환됨\n",
    "arr1 * arr2"
   ]
  },
  {
   "cell_type": "code",
   "execution_count": 101,
   "id": "c8a4741b",
   "metadata": {},
   "outputs": [
    {
     "data": {
      "text/plain": [
       "array([[6],\n",
       "       [7],\n",
       "       [8],\n",
       "       [9]])"
      ]
     },
     "execution_count": 101,
     "metadata": {},
     "output_type": "execute_result"
    }
   ],
   "source": [
    "# arr1에 차원 추가(수직축 추가)\n",
    "new_arr1 = arr1[:, np.newaxis]\n",
    "new_arr1"
   ]
  },
  {
   "cell_type": "code",
   "execution_count": 102,
   "id": "4310fa1f",
   "metadata": {},
   "outputs": [
    {
     "data": {
      "text/plain": [
       "(4, 1)"
      ]
     },
     "execution_count": 102,
     "metadata": {},
     "output_type": "execute_result"
    }
   ],
   "source": [
    "new_arr1.shape"
   ]
  },
  {
   "cell_type": "code",
   "execution_count": 104,
   "id": "92c94ceb",
   "metadata": {},
   "outputs": [],
   "source": [
    "# arr2에 차원 추가(수평축 추가)\n",
    "new_arr2 = arr2[np.newaxis, :]"
   ]
  },
  {
   "cell_type": "code",
   "execution_count": 105,
   "id": "ab2e64c7",
   "metadata": {},
   "outputs": [
    {
     "data": {
      "text/plain": [
       "array([[10, 11, 12, 13]])"
      ]
     },
     "execution_count": 105,
     "metadata": {},
     "output_type": "execute_result"
    }
   ],
   "source": [
    "new_arr2"
   ]
  },
  {
   "cell_type": "code",
   "execution_count": 106,
   "id": "aa7a6ab9",
   "metadata": {},
   "outputs": [
    {
     "data": {
      "text/plain": [
       "(1, 4)"
      ]
     },
     "execution_count": 106,
     "metadata": {},
     "output_type": "execute_result"
    }
   ],
   "source": [
    "new_arr2.shape"
   ]
  },
  {
   "cell_type": "code",
   "execution_count": 108,
   "id": "c443b827",
   "metadata": {},
   "outputs": [
    {
     "data": {
      "text/plain": [
       "array([[ 60,  66,  72,  78],\n",
       "       [ 70,  77,  84,  91],\n",
       "       [ 80,  88,  96, 104],\n",
       "       [ 90,  99, 108, 117]])"
      ]
     },
     "execution_count": 108,
     "metadata": {},
     "output_type": "execute_result"
    }
   ],
   "source": [
    "# 행렬곱 연산\n",
    "new_arr1 * new_arr2"
   ]
  },
  {
   "cell_type": "markdown",
   "id": "db9eac90",
   "metadata": {},
   "source": [
    "## 브로드캐스팅(Broadcasting)\n",
    "\n",
    "- 배열끼리 연산을 하기 위해서는 두 배열의 크기가 같아야 함\n",
    "- 서로 다른 크기를 가진 배열의 사칙연산을 하는 경우 넘파이에서는 크기가 작은 배열을 자동으로 반복 확장하여서 크기가 큰 배열에 맞춤"
   ]
  },
  {
   "cell_type": "code",
   "execution_count": 109,
   "id": "7a17e03e",
   "metadata": {},
   "outputs": [
    {
     "data": {
      "text/plain": [
       "array([[6],\n",
       "       [7],\n",
       "       [8],\n",
       "       [9]])"
      ]
     },
     "execution_count": 109,
     "metadata": {},
     "output_type": "execute_result"
    }
   ],
   "source": [
    "new_arr1"
   ]
  },
  {
   "cell_type": "code",
   "execution_count": 110,
   "id": "8208b0e9",
   "metadata": {},
   "outputs": [
    {
     "data": {
      "text/plain": [
       "array([[10, 11, 12, 13]])"
      ]
     },
     "execution_count": 110,
     "metadata": {},
     "output_type": "execute_result"
    }
   ],
   "source": [
    "new_arr2"
   ]
  },
  {
   "cell_type": "code",
   "execution_count": 111,
   "id": "3f48e218",
   "metadata": {},
   "outputs": [
    {
     "data": {
      "text/plain": [
       "array([[16, 17, 18, 19],\n",
       "       [17, 18, 19, 20],\n",
       "       [18, 19, 20, 21],\n",
       "       [19, 20, 21, 22]])"
      ]
     },
     "execution_count": 111,
     "metadata": {},
     "output_type": "execute_result"
    }
   ],
   "source": [
    "new_arr1 + new_arr2"
   ]
  },
  {
   "cell_type": "markdown",
   "id": "27db68b9",
   "metadata": {},
   "source": [
    "### 연습문제\n",
    "\n",
    "1. 아래의 배열에서 3의 배수를 찾으시오\n",
    "2. 아래의 배열에서 4로 나누면 1이 남는 수를 찾으시오\n",
    "3. 아래의 배열에서 3으로 나누면 나누어지고 4로 나누면 1이 남는 수를 찾으시오"
   ]
  },
  {
   "cell_type": "code",
   "execution_count": 125,
   "id": "3b82a302",
   "metadata": {},
   "outputs": [
    {
     "data": {
      "text/plain": [
       "array([ 1,  2,  3,  4,  5,  6,  7,  8,  9, 10, 11, 12, 13, 14, 15, 16, 17,\n",
       "       18, 19, 20])"
      ]
     },
     "execution_count": 125,
     "metadata": {},
     "output_type": "execute_result"
    }
   ],
   "source": [
    "x = np.arange(1, 21)\n",
    "x"
   ]
  },
  {
   "cell_type": "code",
   "execution_count": 129,
   "id": "9ae71884",
   "metadata": {},
   "outputs": [
    {
     "data": {
      "text/plain": [
       "array([ 3,  6,  9, 12, 15, 18])"
      ]
     },
     "execution_count": 129,
     "metadata": {},
     "output_type": "execute_result"
    }
   ],
   "source": [
    "# 3의 배수를 찾으시오\n",
    "x[x % 3 == 0]"
   ]
  },
  {
   "cell_type": "code",
   "execution_count": 126,
   "id": "ac7b20c0",
   "metadata": {},
   "outputs": [
    {
     "data": {
      "text/plain": [
       "array([ 3,  6,  9, 12, 15, 18])"
      ]
     },
     "execution_count": 126,
     "metadata": {},
     "output_type": "execute_result"
    }
   ],
   "source": [
    "x[2::3]"
   ]
  },
  {
   "cell_type": "code",
   "execution_count": 127,
   "id": "651fa1c8",
   "metadata": {},
   "outputs": [
    {
     "data": {
      "text/plain": [
       "array([ 1,  5,  9, 13, 17])"
      ]
     },
     "execution_count": 127,
     "metadata": {},
     "output_type": "execute_result"
    }
   ],
   "source": [
    "# 4로 나누면 1이 남는 수를 찾으시오\n",
    "x[x % 4 ==1]"
   ]
  },
  {
   "cell_type": "code",
   "execution_count": 130,
   "id": "5f5d6d07",
   "metadata": {},
   "outputs": [
    {
     "data": {
      "text/plain": [
       "array([9])"
      ]
     },
     "execution_count": 130,
     "metadata": {},
     "output_type": "execute_result"
    }
   ],
   "source": [
    "# 3으로 나누면 나누어지고 4로 나누면 1이 남는 수를 찾으시오\n",
    "x[(x % 3 == 0) & (x % 4 == 1)]"
   ]
  },
  {
   "cell_type": "markdown",
   "id": "9bd27789",
   "metadata": {},
   "source": [
    "## 축에 따른 연산\n",
    "\n",
    "- 동일한 축에 있는 원소들을 계산하기 위해서 필요함"
   ]
  },
  {
   "cell_type": "markdown",
   "id": "5d9f932a",
   "metadata": {},
   "source": [
    "### 1차원 배열"
   ]
  },
  {
   "cell_type": "code",
   "execution_count": 131,
   "id": "bb800924",
   "metadata": {},
   "outputs": [],
   "source": [
    "arr1 = np.array([1, 2, 3, 4])"
   ]
  },
  {
   "cell_type": "code",
   "execution_count": 132,
   "id": "a85f065d",
   "metadata": {},
   "outputs": [
    {
     "data": {
      "text/plain": [
       "array([1, 2, 3, 4])"
      ]
     },
     "execution_count": 132,
     "metadata": {},
     "output_type": "execute_result"
    }
   ],
   "source": [
    "arr1"
   ]
  },
  {
   "cell_type": "code",
   "execution_count": 134,
   "id": "aa2e0d3b",
   "metadata": {},
   "outputs": [
    {
     "data": {
      "text/plain": [
       "10"
      ]
     },
     "execution_count": 134,
     "metadata": {},
     "output_type": "execute_result"
    }
   ],
   "source": [
    "# 합계\n",
    "np.sum(arr1)"
   ]
  },
  {
   "cell_type": "code",
   "execution_count": 135,
   "id": "821010d2",
   "metadata": {},
   "outputs": [
    {
     "data": {
      "text/plain": [
       "10"
      ]
     },
     "execution_count": 135,
     "metadata": {},
     "output_type": "execute_result"
    }
   ],
   "source": [
    "arr1.sum()"
   ]
  },
  {
   "cell_type": "code",
   "execution_count": 138,
   "id": "88ab75c7",
   "metadata": {},
   "outputs": [
    {
     "data": {
      "text/plain": [
       "4"
      ]
     },
     "execution_count": 138,
     "metadata": {},
     "output_type": "execute_result"
    }
   ],
   "source": [
    "# 최댓값\n",
    "arr1.max()"
   ]
  },
  {
   "cell_type": "code",
   "execution_count": 140,
   "id": "a7607db9",
   "metadata": {},
   "outputs": [
    {
     "data": {
      "text/plain": [
       "1"
      ]
     },
     "execution_count": 140,
     "metadata": {},
     "output_type": "execute_result"
    }
   ],
   "source": [
    "# 최솟값\n",
    "arr1.min()"
   ]
  },
  {
   "cell_type": "code",
   "execution_count": 141,
   "id": "3676503c",
   "metadata": {},
   "outputs": [
    {
     "data": {
      "text/plain": [
       "0"
      ]
     },
     "execution_count": 141,
     "metadata": {},
     "output_type": "execute_result"
    }
   ],
   "source": [
    "# 최솟값의 위치\n",
    "arr1.argmin()"
   ]
  },
  {
   "cell_type": "code",
   "execution_count": 142,
   "id": "efba8fb2",
   "metadata": {},
   "outputs": [
    {
     "data": {
      "text/plain": [
       "3"
      ]
     },
     "execution_count": 142,
     "metadata": {},
     "output_type": "execute_result"
    }
   ],
   "source": [
    "# 최댓값의 위치\n",
    "arr1.argmax()"
   ]
  },
  {
   "cell_type": "code",
   "execution_count": 143,
   "id": "c56076d4",
   "metadata": {},
   "outputs": [
    {
     "data": {
      "text/plain": [
       "2.5"
      ]
     },
     "execution_count": 143,
     "metadata": {},
     "output_type": "execute_result"
    }
   ],
   "source": [
    "# 평균\n",
    "arr1.mean()"
   ]
  },
  {
   "cell_type": "code",
   "execution_count": 144,
   "id": "8fb2f55e",
   "metadata": {},
   "outputs": [
    {
     "data": {
      "text/plain": [
       "2.5"
      ]
     },
     "execution_count": 144,
     "metadata": {},
     "output_type": "execute_result"
    }
   ],
   "source": [
    "# 중앙값\n",
    "np.median(arr1)"
   ]
  },
  {
   "cell_type": "markdown",
   "id": "2514b919",
   "metadata": {},
   "source": [
    "### 2차원 배열"
   ]
  },
  {
   "cell_type": "code",
   "execution_count": 145,
   "id": "d4b830ca",
   "metadata": {},
   "outputs": [],
   "source": [
    "arr2 = arr1.reshape(2, 2)"
   ]
  },
  {
   "cell_type": "code",
   "execution_count": 146,
   "id": "360297c7",
   "metadata": {},
   "outputs": [
    {
     "data": {
      "text/plain": [
       "array([[1, 2],\n",
       "       [3, 4]])"
      ]
     },
     "execution_count": 146,
     "metadata": {},
     "output_type": "execute_result"
    }
   ],
   "source": [
    "arr2"
   ]
  },
  {
   "cell_type": "code",
   "execution_count": 148,
   "id": "53e671cf",
   "metadata": {},
   "outputs": [
    {
     "data": {
      "text/plain": [
       "10"
      ]
     },
     "execution_count": 148,
     "metadata": {},
     "output_type": "execute_result"
    }
   ],
   "source": [
    "# 모든 원소를 더한 합\n",
    "np.sum(arr2)"
   ]
  },
  {
   "cell_type": "code",
   "execution_count": 149,
   "id": "f81f6887",
   "metadata": {},
   "outputs": [
    {
     "data": {
      "text/plain": [
       "array([4, 6])"
      ]
     },
     "execution_count": 149,
     "metadata": {},
     "output_type": "execute_result"
    }
   ],
   "source": [
    "# 수직방향으로 같은 열에 속한 원소만 합산\n",
    "np.sum(arr2, axis = 0)"
   ]
  },
  {
   "cell_type": "code",
   "execution_count": 150,
   "id": "7e2d381f",
   "metadata": {},
   "outputs": [
    {
     "data": {
      "text/plain": [
       "array([3, 7])"
      ]
     },
     "execution_count": 150,
     "metadata": {},
     "output_type": "execute_result"
    }
   ],
   "source": [
    "# 수평방향으로 같은 행에 속한 원소만 합산\n",
    "np.sum(arr2, axis = 1)"
   ]
  },
  {
   "cell_type": "code",
   "execution_count": 164,
   "id": "c67843b7",
   "metadata": {},
   "outputs": [
    {
     "data": {
      "text/plain": [
       "array([[1, 2, 3],\n",
       "       [4, 5, 6]])"
      ]
     },
     "execution_count": 164,
     "metadata": {},
     "output_type": "execute_result"
    }
   ],
   "source": [
    "arr5 = np.array([[1, 2, 3], [4, 5, 6]])\n",
    "arr5"
   ]
  },
  {
   "cell_type": "code",
   "execution_count": 165,
   "id": "fff6e903",
   "metadata": {},
   "outputs": [
    {
     "data": {
      "text/plain": [
       "(2, 3)"
      ]
     },
     "execution_count": 165,
     "metadata": {},
     "output_type": "execute_result"
    }
   ],
   "source": [
    "arr5.shape"
   ]
  },
  {
   "cell_type": "code",
   "execution_count": 166,
   "id": "386b0f3c",
   "metadata": {},
   "outputs": [
    {
     "data": {
      "text/plain": [
       "array([5, 7, 9])"
      ]
     },
     "execution_count": 166,
     "metadata": {},
     "output_type": "execute_result"
    }
   ],
   "source": [
    "np.sum(arr5, axis = 0)"
   ]
  },
  {
   "cell_type": "code",
   "execution_count": 169,
   "id": "151d5713",
   "metadata": {},
   "outputs": [
    {
     "data": {
      "text/plain": [
       "array([ 6, 15])"
      ]
     },
     "execution_count": 169,
     "metadata": {},
     "output_type": "execute_result"
    }
   ],
   "source": [
    "np.sum(arr5, axis = 1)"
   ]
  },
  {
   "cell_type": "markdown",
   "id": "43a735d7",
   "metadata": {},
   "source": [
    "### 3차원 배열"
   ]
  },
  {
   "cell_type": "code",
   "execution_count": 151,
   "id": "cac10097",
   "metadata": {},
   "outputs": [],
   "source": [
    "arr3 = np.arange(1, 9)"
   ]
  },
  {
   "cell_type": "code",
   "execution_count": 152,
   "id": "95b6fe9c",
   "metadata": {},
   "outputs": [
    {
     "data": {
      "text/plain": [
       "array([1, 2, 3, 4, 5, 6, 7, 8])"
      ]
     },
     "execution_count": 152,
     "metadata": {},
     "output_type": "execute_result"
    }
   ],
   "source": [
    "arr3"
   ]
  },
  {
   "cell_type": "code",
   "execution_count": 153,
   "id": "d0570a5f",
   "metadata": {},
   "outputs": [],
   "source": [
    "arr4 = arr3.reshape(2, 2, 2)"
   ]
  },
  {
   "cell_type": "code",
   "execution_count": 154,
   "id": "287e027e",
   "metadata": {},
   "outputs": [
    {
     "data": {
      "text/plain": [
       "array([[[1, 2],\n",
       "        [3, 4]],\n",
       "\n",
       "       [[5, 6],\n",
       "        [7, 8]]])"
      ]
     },
     "execution_count": 154,
     "metadata": {},
     "output_type": "execute_result"
    }
   ],
   "source": [
    "arr4"
   ]
  },
  {
   "cell_type": "code",
   "execution_count": 155,
   "id": "55620890",
   "metadata": {},
   "outputs": [
    {
     "data": {
      "text/plain": [
       "36"
      ]
     },
     "execution_count": 155,
     "metadata": {},
     "output_type": "execute_result"
    }
   ],
   "source": [
    "# 모든 원소를 더한 합\n",
    "np.sum(arr4)"
   ]
  },
  {
   "cell_type": "code",
   "execution_count": 156,
   "id": "efe295fd",
   "metadata": {},
   "outputs": [
    {
     "data": {
      "text/plain": [
       "array([[ 6,  8],\n",
       "       [10, 12]])"
      ]
     },
     "execution_count": 156,
     "metadata": {},
     "output_type": "execute_result"
    }
   ],
   "source": [
    "# 두 개의 행렬의 동일한 인덱스의 원소를 합한 값\n",
    "np.sum(arr4, axis = 0)"
   ]
  },
  {
   "cell_type": "code",
   "execution_count": 160,
   "id": "20596fd1",
   "metadata": {},
   "outputs": [
    {
     "data": {
      "text/plain": [
       "array([[ 4,  6],\n",
       "       [12, 14]])"
      ]
     },
     "execution_count": 160,
     "metadata": {},
     "output_type": "execute_result"
    }
   ],
   "source": [
    "# 각 2차원 배열의 열의 합\n",
    "np.sum(arr4, axis = 1)"
   ]
  },
  {
   "cell_type": "code",
   "execution_count": 163,
   "id": "03691f8a",
   "metadata": {},
   "outputs": [
    {
     "data": {
      "text/plain": [
       "array([[ 3,  7],\n",
       "       [11, 15]])"
      ]
     },
     "execution_count": 163,
     "metadata": {},
     "output_type": "execute_result"
    }
   ],
   "source": [
    "# 각 2차원 배열의 행의 합\n",
    "np.sum(arr4, axis = 2)"
   ]
  },
  {
   "cell_type": "code",
   "execution_count": 175,
   "id": "860b9ac4",
   "metadata": {},
   "outputs": [],
   "source": [
    "arr6 = np.random.randint(1,10, (2, 3,4))"
   ]
  },
  {
   "cell_type": "code",
   "execution_count": 176,
   "id": "3ecbbb4a",
   "metadata": {},
   "outputs": [
    {
     "data": {
      "text/plain": [
       "array([[[4, 3, 4, 3],\n",
       "        [7, 2, 5, 2],\n",
       "        [6, 7, 8, 5]],\n",
       "\n",
       "       [[9, 4, 8, 1],\n",
       "        [9, 3, 4, 8],\n",
       "        [4, 2, 9, 9]]])"
      ]
     },
     "execution_count": 176,
     "metadata": {},
     "output_type": "execute_result"
    }
   ],
   "source": [
    "arr6"
   ]
  },
  {
   "cell_type": "code",
   "execution_count": 177,
   "id": "2813b701",
   "metadata": {},
   "outputs": [
    {
     "data": {
      "text/plain": [
       "array([[6.5, 3.5, 6. , 2. ],\n",
       "       [8. , 2.5, 4.5, 5. ],\n",
       "       [5. , 4.5, 8.5, 7. ]])"
      ]
     },
     "execution_count": 177,
     "metadata": {},
     "output_type": "execute_result"
    }
   ],
   "source": [
    "arr6.mean(axis = 0)"
   ]
  },
  {
   "cell_type": "code",
   "execution_count": 178,
   "id": "a855c68a",
   "metadata": {},
   "outputs": [
    {
     "data": {
      "text/plain": [
       "array([[5.66666667, 4.        , 5.66666667, 3.33333333],\n",
       "       [7.33333333, 3.        , 7.        , 6.        ]])"
      ]
     },
     "execution_count": 178,
     "metadata": {},
     "output_type": "execute_result"
    }
   ],
   "source": [
    "arr6.mean(axis = 1)"
   ]
  },
  {
   "cell_type": "code",
   "execution_count": 179,
   "id": "4f4df903",
   "metadata": {},
   "outputs": [
    {
     "data": {
      "text/plain": [
       "array([[3.5, 4. , 6.5],\n",
       "       [5.5, 6. , 6. ]])"
      ]
     },
     "execution_count": 179,
     "metadata": {},
     "output_type": "execute_result"
    }
   ],
   "source": [
    "arr6.mean(axis = 2)"
   ]
  },
  {
   "cell_type": "code",
   "execution_count": 180,
   "id": "306c029a",
   "metadata": {},
   "outputs": [
    {
     "data": {
      "text/plain": [
       "array([6.5       , 3.5       , 6.33333333, 4.66666667])"
      ]
     },
     "execution_count": 180,
     "metadata": {},
     "output_type": "execute_result"
    }
   ],
   "source": [
    "arr6.mean(axis = (0,1))"
   ]
  },
  {
   "cell_type": "code",
   "execution_count": 181,
   "id": "9a006f0f",
   "metadata": {},
   "outputs": [
    {
     "data": {
      "text/plain": [
       "array([4.5 , 5.  , 6.25])"
      ]
     },
     "execution_count": 181,
     "metadata": {},
     "output_type": "execute_result"
    }
   ],
   "source": [
    "arr6.mean(axis = (0, 2)) # 평균값~ (1-1, 2-1) (1-2, 2-2), (1-3,2-3)"
   ]
  },
  {
   "cell_type": "code",
   "execution_count": 183,
   "id": "9ffeb2eb",
   "metadata": {},
   "outputs": [
    {
     "data": {
      "text/plain": [
       "array([4.66666667, 5.83333333])"
      ]
     },
     "execution_count": 183,
     "metadata": {},
     "output_type": "execute_result"
    }
   ],
   "source": [
    "arr6.mean(axis = (1, 2)) # 1동 평균, 2동 평균"
   ]
  },
  {
   "cell_type": "markdown",
   "id": "1501a23f",
   "metadata": {},
   "source": [
    "#### 연습문제\n",
    "\n",
    "- 실수로 이루어진 5 x 6 형태의 테이터 행렬을 만들고 다음의 값을 구하시오\n",
    "    1. 전체의 최댓값\n",
    "    2. 각 행의 합\n",
    "    3. 각 행의 최댓값\n",
    "    4. 각 열의 평균\n",
    "    5. 각 열의 최솟값"
   ]
  },
  {
   "cell_type": "code",
   "execution_count": 188,
   "id": "0249695a",
   "metadata": {},
   "outputs": [
    {
     "data": {
      "text/plain": [
       "array([[0.58636488, 0.75745873, 0.27103035, 0.54695014, 0.21630879,\n",
       "        0.67336169],\n",
       "       [0.71857145, 0.84571808, 0.07600711, 0.52047856, 0.53534796,\n",
       "        0.95823207],\n",
       "       [0.56968025, 0.678506  , 0.53458663, 0.9239768 , 0.13342152,\n",
       "        0.77277027],\n",
       "       [0.92198516, 0.75955225, 0.33941253, 0.59622345, 0.03676052,\n",
       "        0.59480451],\n",
       "       [0.2121365 , 0.6856046 , 0.63901072, 0.78984627, 0.99594111,\n",
       "        0.75465195]])"
      ]
     },
     "execution_count": 188,
     "metadata": {},
     "output_type": "execute_result"
    }
   ],
   "source": [
    "x = np.random.random((5, 6))\n",
    "x"
   ]
  },
  {
   "cell_type": "code",
   "execution_count": 186,
   "id": "19f5e003",
   "metadata": {},
   "outputs": [
    {
     "data": {
      "text/plain": [
       "array([[8, 4, 4, 1, 2, 8],\n",
       "       [4, 8, 8, 6, 4, 7],\n",
       "       [8, 7, 2, 8, 8, 7],\n",
       "       [2, 6, 4, 3, 9, 9],\n",
       "       [5, 1, 9, 7, 2, 2]])"
      ]
     },
     "execution_count": 186,
     "metadata": {},
     "output_type": "execute_result"
    }
   ],
   "source": []
  },
  {
   "cell_type": "code",
   "execution_count": 189,
   "id": "47d19278",
   "metadata": {},
   "outputs": [
    {
     "data": {
      "text/plain": [
       "0.9959411068756128"
      ]
     },
     "execution_count": 189,
     "metadata": {},
     "output_type": "execute_result"
    }
   ],
   "source": [
    "# 1. 전체의 최댓값\n",
    "x.max()"
   ]
  },
  {
   "cell_type": "code",
   "execution_count": null,
   "id": "33107587",
   "metadata": {},
   "outputs": [],
   "source": []
  },
  {
   "cell_type": "code",
   "execution_count": 191,
   "id": "0f1df2a6",
   "metadata": {
    "scrolled": true
   },
   "outputs": [
    {
     "ename": "AxisError",
     "evalue": "axis 5 is out of bounds for array of dimension 2",
     "output_type": "error",
     "traceback": [
      "\u001b[1;31m---------------------------------------------------------------------------\u001b[0m",
      "\u001b[1;31mAxisError\u001b[0m                                 Traceback (most recent call last)",
      "Cell \u001b[1;32mIn[191], line 1\u001b[0m\n\u001b[1;32m----> 1\u001b[0m \u001b[43mnp\u001b[49m\u001b[38;5;241;43m.\u001b[39;49m\u001b[43msum\u001b[49m\u001b[43m(\u001b[49m\u001b[43mx\u001b[49m\u001b[43m,\u001b[49m\u001b[43m \u001b[49m\u001b[43maxis\u001b[49m\u001b[43m \u001b[49m\u001b[38;5;241;43m=\u001b[39;49m\u001b[43m \u001b[49m\u001b[38;5;241;43m5\u001b[39;49m\u001b[43m)\u001b[49m\n",
      "File \u001b[1;32m<__array_function__ internals>:180\u001b[0m, in \u001b[0;36msum\u001b[1;34m(*args, **kwargs)\u001b[0m\n",
      "File \u001b[1;32m~\\anaconda3\\lib\\site-packages\\numpy\\core\\fromnumeric.py:2298\u001b[0m, in \u001b[0;36msum\u001b[1;34m(a, axis, dtype, out, keepdims, initial, where)\u001b[0m\n\u001b[0;32m   2295\u001b[0m         \u001b[38;5;28;01mreturn\u001b[39;00m out\n\u001b[0;32m   2296\u001b[0m     \u001b[38;5;28;01mreturn\u001b[39;00m res\n\u001b[1;32m-> 2298\u001b[0m \u001b[38;5;28;01mreturn\u001b[39;00m \u001b[43m_wrapreduction\u001b[49m\u001b[43m(\u001b[49m\u001b[43ma\u001b[49m\u001b[43m,\u001b[49m\u001b[43m \u001b[49m\u001b[43mnp\u001b[49m\u001b[38;5;241;43m.\u001b[39;49m\u001b[43madd\u001b[49m\u001b[43m,\u001b[49m\u001b[43m \u001b[49m\u001b[38;5;124;43m'\u001b[39;49m\u001b[38;5;124;43msum\u001b[39;49m\u001b[38;5;124;43m'\u001b[39;49m\u001b[43m,\u001b[49m\u001b[43m \u001b[49m\u001b[43maxis\u001b[49m\u001b[43m,\u001b[49m\u001b[43m \u001b[49m\u001b[43mdtype\u001b[49m\u001b[43m,\u001b[49m\u001b[43m \u001b[49m\u001b[43mout\u001b[49m\u001b[43m,\u001b[49m\u001b[43m \u001b[49m\u001b[43mkeepdims\u001b[49m\u001b[38;5;241;43m=\u001b[39;49m\u001b[43mkeepdims\u001b[49m\u001b[43m,\u001b[49m\n\u001b[0;32m   2299\u001b[0m \u001b[43m                      \u001b[49m\u001b[43minitial\u001b[49m\u001b[38;5;241;43m=\u001b[39;49m\u001b[43minitial\u001b[49m\u001b[43m,\u001b[49m\u001b[43m \u001b[49m\u001b[43mwhere\u001b[49m\u001b[38;5;241;43m=\u001b[39;49m\u001b[43mwhere\u001b[49m\u001b[43m)\u001b[49m\n",
      "File \u001b[1;32m~\\anaconda3\\lib\\site-packages\\numpy\\core\\fromnumeric.py:86\u001b[0m, in \u001b[0;36m_wrapreduction\u001b[1;34m(obj, ufunc, method, axis, dtype, out, **kwargs)\u001b[0m\n\u001b[0;32m     83\u001b[0m         \u001b[38;5;28;01melse\u001b[39;00m:\n\u001b[0;32m     84\u001b[0m             \u001b[38;5;28;01mreturn\u001b[39;00m reduction(axis\u001b[38;5;241m=\u001b[39maxis, out\u001b[38;5;241m=\u001b[39mout, \u001b[38;5;241m*\u001b[39m\u001b[38;5;241m*\u001b[39mpasskwargs)\n\u001b[1;32m---> 86\u001b[0m \u001b[38;5;28;01mreturn\u001b[39;00m ufunc\u001b[38;5;241m.\u001b[39mreduce(obj, axis, dtype, out, \u001b[38;5;241m*\u001b[39m\u001b[38;5;241m*\u001b[39mpasskwargs)\n",
      "\u001b[1;31mAxisError\u001b[0m: axis 5 is out of bounds for array of dimension 2"
     ]
    }
   ],
   "source": []
  },
  {
   "cell_type": "code",
   "execution_count": 192,
   "id": "fcd1e264",
   "metadata": {
    "scrolled": true
   },
   "outputs": [
    {
     "ename": "AxisError",
     "evalue": "axis 5 is out of bounds for array of dimension 2",
     "output_type": "error",
     "traceback": [
      "\u001b[1;31m---------------------------------------------------------------------------\u001b[0m",
      "\u001b[1;31mAxisError\u001b[0m                                 Traceback (most recent call last)",
      "Cell \u001b[1;32mIn[192], line 1\u001b[0m\n\u001b[1;32m----> 1\u001b[0m \u001b[43mx\u001b[49m\u001b[38;5;241;43m.\u001b[39;49m\u001b[43msum\u001b[49m\u001b[43m(\u001b[49m\u001b[43maxis\u001b[49m\u001b[43m \u001b[49m\u001b[38;5;241;43m=\u001b[39;49m\u001b[43m \u001b[49m\u001b[38;5;241;43m5\u001b[39;49m\u001b[43m)\u001b[49m\n",
      "File \u001b[1;32m~\\anaconda3\\lib\\site-packages\\numpy\\core\\_methods.py:48\u001b[0m, in \u001b[0;36m_sum\u001b[1;34m(a, axis, dtype, out, keepdims, initial, where)\u001b[0m\n\u001b[0;32m     46\u001b[0m \u001b[38;5;28;01mdef\u001b[39;00m \u001b[38;5;21m_sum\u001b[39m(a, axis\u001b[38;5;241m=\u001b[39m\u001b[38;5;28;01mNone\u001b[39;00m, dtype\u001b[38;5;241m=\u001b[39m\u001b[38;5;28;01mNone\u001b[39;00m, out\u001b[38;5;241m=\u001b[39m\u001b[38;5;28;01mNone\u001b[39;00m, keepdims\u001b[38;5;241m=\u001b[39m\u001b[38;5;28;01mFalse\u001b[39;00m,\n\u001b[0;32m     47\u001b[0m          initial\u001b[38;5;241m=\u001b[39m_NoValue, where\u001b[38;5;241m=\u001b[39m\u001b[38;5;28;01mTrue\u001b[39;00m):\n\u001b[1;32m---> 48\u001b[0m     \u001b[38;5;28;01mreturn\u001b[39;00m \u001b[43mumr_sum\u001b[49m\u001b[43m(\u001b[49m\u001b[43ma\u001b[49m\u001b[43m,\u001b[49m\u001b[43m \u001b[49m\u001b[43maxis\u001b[49m\u001b[43m,\u001b[49m\u001b[43m \u001b[49m\u001b[43mdtype\u001b[49m\u001b[43m,\u001b[49m\u001b[43m \u001b[49m\u001b[43mout\u001b[49m\u001b[43m,\u001b[49m\u001b[43m \u001b[49m\u001b[43mkeepdims\u001b[49m\u001b[43m,\u001b[49m\u001b[43m \u001b[49m\u001b[43minitial\u001b[49m\u001b[43m,\u001b[49m\u001b[43m \u001b[49m\u001b[43mwhere\u001b[49m\u001b[43m)\u001b[49m\n",
      "\u001b[1;31mAxisError\u001b[0m: axis 5 is out of bounds for array of dimension 2"
     ]
    }
   ],
   "source": []
  },
  {
   "cell_type": "code",
   "execution_count": 194,
   "id": "f3fd821c",
   "metadata": {},
   "outputs": [
    {
     "data": {
      "text/plain": [
       "array([3.05147457, 3.65435522, 3.61294148, 3.2487384 , 4.07719115])"
      ]
     },
     "execution_count": 194,
     "metadata": {},
     "output_type": "execute_result"
    }
   ],
   "source": [
    "# 2. 각 행의 합\n",
    "np.sum(x, axis = 1)"
   ]
  },
  {
   "cell_type": "code",
   "execution_count": 193,
   "id": "d9d45f1e",
   "metadata": {
    "scrolled": true
   },
   "outputs": [
    {
     "ename": "AxisError",
     "evalue": "axis 2 is out of bounds for array of dimension 2",
     "output_type": "error",
     "traceback": [
      "\u001b[1;31m---------------------------------------------------------------------------\u001b[0m",
      "\u001b[1;31mAxisError\u001b[0m                                 Traceback (most recent call last)",
      "Cell \u001b[1;32mIn[193], line 1\u001b[0m\n\u001b[1;32m----> 1\u001b[0m \u001b[43mx\u001b[49m\u001b[38;5;241;43m.\u001b[39;49m\u001b[43mmax\u001b[49m\u001b[43m(\u001b[49m\u001b[43maxis\u001b[49m\u001b[43m \u001b[49m\u001b[38;5;241;43m=\u001b[39;49m\u001b[43m \u001b[49m\u001b[38;5;241;43m2\u001b[39;49m\u001b[43m)\u001b[49m\n",
      "File \u001b[1;32m~\\anaconda3\\lib\\site-packages\\numpy\\core\\_methods.py:40\u001b[0m, in \u001b[0;36m_amax\u001b[1;34m(a, axis, out, keepdims, initial, where)\u001b[0m\n\u001b[0;32m     38\u001b[0m \u001b[38;5;28;01mdef\u001b[39;00m \u001b[38;5;21m_amax\u001b[39m(a, axis\u001b[38;5;241m=\u001b[39m\u001b[38;5;28;01mNone\u001b[39;00m, out\u001b[38;5;241m=\u001b[39m\u001b[38;5;28;01mNone\u001b[39;00m, keepdims\u001b[38;5;241m=\u001b[39m\u001b[38;5;28;01mFalse\u001b[39;00m,\n\u001b[0;32m     39\u001b[0m           initial\u001b[38;5;241m=\u001b[39m_NoValue, where\u001b[38;5;241m=\u001b[39m\u001b[38;5;28;01mTrue\u001b[39;00m):\n\u001b[1;32m---> 40\u001b[0m     \u001b[38;5;28;01mreturn\u001b[39;00m \u001b[43mumr_maximum\u001b[49m\u001b[43m(\u001b[49m\u001b[43ma\u001b[49m\u001b[43m,\u001b[49m\u001b[43m \u001b[49m\u001b[43maxis\u001b[49m\u001b[43m,\u001b[49m\u001b[43m \u001b[49m\u001b[38;5;28;43;01mNone\u001b[39;49;00m\u001b[43m,\u001b[49m\u001b[43m \u001b[49m\u001b[43mout\u001b[49m\u001b[43m,\u001b[49m\u001b[43m \u001b[49m\u001b[43mkeepdims\u001b[49m\u001b[43m,\u001b[49m\u001b[43m \u001b[49m\u001b[43minitial\u001b[49m\u001b[43m,\u001b[49m\u001b[43m \u001b[49m\u001b[43mwhere\u001b[49m\u001b[43m)\u001b[49m\n",
      "\u001b[1;31mAxisError\u001b[0m: axis 2 is out of bounds for array of dimension 2"
     ]
    }
   ],
   "source": [
    "x.max(axis = 2)"
   ]
  },
  {
   "cell_type": "code",
   "execution_count": 200,
   "id": "214ce691",
   "metadata": {},
   "outputs": [
    {
     "data": {
      "text/plain": [
       "array([3.05147457, 3.65435522, 3.61294148, 3.2487384 , 4.07719115])"
      ]
     },
     "execution_count": 200,
     "metadata": {},
     "output_type": "execute_result"
    }
   ],
   "source": [
    "x.sum(axis = 1)"
   ]
  },
  {
   "cell_type": "code",
   "execution_count": 195,
   "id": "d66ef275",
   "metadata": {},
   "outputs": [
    {
     "data": {
      "text/plain": [
       "array([0.75745873, 0.95823207, 0.9239768 , 0.92198516, 0.99594111])"
      ]
     },
     "execution_count": 195,
     "metadata": {},
     "output_type": "execute_result"
    }
   ],
   "source": [
    "# 3. 각 행의 최댓값\n",
    "np.max(x, axis = 1)"
   ]
  },
  {
   "cell_type": "code",
   "execution_count": 201,
   "id": "f1d02a7c",
   "metadata": {},
   "outputs": [
    {
     "data": {
      "text/plain": [
       "array([0.75745873, 0.95823207, 0.9239768 , 0.92198516, 0.99594111])"
      ]
     },
     "execution_count": 201,
     "metadata": {},
     "output_type": "execute_result"
    }
   ],
   "source": [
    "x.max(axis = 1)"
   ]
  },
  {
   "cell_type": "code",
   "execution_count": 198,
   "id": "4e2d0118",
   "metadata": {},
   "outputs": [
    {
     "data": {
      "text/plain": [
       "array([0.60174765, 0.74536793, 0.37200947, 0.67549504, 0.38355598,\n",
       "       0.7507641 ])"
      ]
     },
     "execution_count": 198,
     "metadata": {},
     "output_type": "execute_result"
    }
   ],
   "source": [
    "# 4. 각 열의 평균\n",
    "np.mean(x, axis = 0)"
   ]
  },
  {
   "cell_type": "code",
   "execution_count": 202,
   "id": "eff24258",
   "metadata": {},
   "outputs": [
    {
     "data": {
      "text/plain": [
       "array([0.60174765, 0.74536793, 0.37200947, 0.67549504, 0.38355598,\n",
       "       0.7507641 ])"
      ]
     },
     "execution_count": 202,
     "metadata": {},
     "output_type": "execute_result"
    }
   ],
   "source": [
    "x.mean(axis = 0)"
   ]
  },
  {
   "cell_type": "code",
   "execution_count": 199,
   "id": "4318b6a8",
   "metadata": {},
   "outputs": [
    {
     "data": {
      "text/plain": [
       "array([0.2121365 , 0.678506  , 0.07600711, 0.52047856, 0.03676052,\n",
       "       0.59480451])"
      ]
     },
     "execution_count": 199,
     "metadata": {},
     "output_type": "execute_result"
    }
   ],
   "source": [
    "# 5. 각 열의 최솟값\n",
    "np.min(x, axis = 0)"
   ]
  },
  {
   "cell_type": "code",
   "execution_count": 203,
   "id": "c91d46e8",
   "metadata": {},
   "outputs": [
    {
     "data": {
      "text/plain": [
       "array([0.2121365 , 0.678506  , 0.07600711, 0.52047856, 0.03676052,\n",
       "       0.59480451])"
      ]
     },
     "execution_count": 203,
     "metadata": {},
     "output_type": "execute_result"
    }
   ],
   "source": [
    "x.min(axis = 0)"
   ]
  },
  {
   "cell_type": "code",
   "execution_count": 204,
   "id": "b0fd0be7",
   "metadata": {},
   "outputs": [
    {
     "data": {
      "text/plain": [
       "array([4, 2, 1, 1, 3, 3], dtype=int64)"
      ]
     },
     "execution_count": 204,
     "metadata": {},
     "output_type": "execute_result"
    }
   ],
   "source": [
    "x.argmin(axis = 0)"
   ]
  },
  {
   "cell_type": "markdown",
   "id": "debab234",
   "metadata": {},
   "source": [
    "# Inf와 nan\n",
    "\n",
    "- 넘파이에서는 무한대를 표현하기 위한 np.inf와 정의할 수 없는 숫자를 나타내는 np.nan이 있음"
   ]
  },
  {
   "cell_type": "code",
   "execution_count": 207,
   "id": "02137aa7",
   "metadata": {},
   "outputs": [
    {
     "name": "stderr",
     "output_type": "stream",
     "text": [
      "C:\\Users\\lg\\AppData\\Local\\Temp\\ipykernel_20104\\2068585620.py:1: RuntimeWarning: divide by zero encountered in divide\n",
      "  np.array([0, 1, -1, 0]) / np.array([1, 0, 0, 0])\n",
      "C:\\Users\\lg\\AppData\\Local\\Temp\\ipykernel_20104\\2068585620.py:1: RuntimeWarning: invalid value encountered in divide\n",
      "  np.array([0, 1, -1, 0]) / np.array([1, 0, 0, 0])\n"
     ]
    },
    {
     "data": {
      "text/plain": [
       "array([  0.,  inf, -inf,  nan])"
      ]
     },
     "execution_count": 207,
     "metadata": {},
     "output_type": "execute_result"
    }
   ],
   "source": [
    "np.array([0, 1, -1, 0]) / np.array([1, 0, 0, 0])"
   ]
  },
  {
   "cell_type": "markdown",
   "id": "54283a7f",
   "metadata": {},
   "source": [
    "# 스칼라\n",
    "\n",
    "- 가장 기본적인 값\n",
    "- 0차원 배열\n",
    "- 크기를 표현"
   ]
  },
  {
   "cell_type": "code",
   "execution_count": 208,
   "id": "725d7d17",
   "metadata": {},
   "outputs": [],
   "source": [
    "scalar_arr = np.array(43)"
   ]
  },
  {
   "cell_type": "code",
   "execution_count": 210,
   "id": "aef170f0",
   "metadata": {},
   "outputs": [
    {
     "data": {
      "text/plain": [
       "array(43)"
      ]
     },
     "execution_count": 210,
     "metadata": {},
     "output_type": "execute_result"
    }
   ],
   "source": [
    "# array에서 스칼라는 대괄호 없이 숫자만 표시\n",
    "# 대괄호는 벡터(1차원 배열)부터 사용\n",
    "scalar_arr"
   ]
  },
  {
   "cell_type": "code",
   "execution_count": 211,
   "id": "3343832f",
   "metadata": {},
   "outputs": [
    {
     "data": {
      "text/plain": [
       "numpy.ndarray"
      ]
     },
     "execution_count": 211,
     "metadata": {},
     "output_type": "execute_result"
    }
   ],
   "source": [
    "type(scalar_arr)"
   ]
  },
  {
   "cell_type": "code",
   "execution_count": 212,
   "id": "eea6378b",
   "metadata": {},
   "outputs": [
    {
     "data": {
      "text/plain": [
       "0"
      ]
     },
     "execution_count": 212,
     "metadata": {},
     "output_type": "execute_result"
    }
   ],
   "source": [
    "# 스칼라는 0차원\n",
    "scalar_arr.ndim"
   ]
  },
  {
   "cell_type": "markdown",
   "id": "fe562882",
   "metadata": {},
   "source": [
    "- '[]' 줄을 만들어 주는 개념"
   ]
  },
  {
   "cell_type": "code",
   "execution_count": 213,
   "id": "0571b080",
   "metadata": {},
   "outputs": [
    {
     "data": {
      "text/plain": [
       "()"
      ]
     },
     "execution_count": 213,
     "metadata": {},
     "output_type": "execute_result"
    }
   ],
   "source": [
    "# 축이 없기 때문에 shape는 빈 튜플\n",
    "scalar_arr.shape"
   ]
  },
  {
   "cell_type": "code",
   "execution_count": 214,
   "id": "ca6c9e06",
   "metadata": {},
   "outputs": [
    {
     "data": {
      "text/plain": [
       "dtype('int32')"
      ]
     },
     "execution_count": 214,
     "metadata": {},
     "output_type": "execute_result"
    }
   ],
   "source": [
    "# array로 스칼라를 만들어도 dtype를 가짐\n",
    "scalar_arr.dtype"
   ]
  },
  {
   "cell_type": "markdown",
   "id": "f7447a5f",
   "metadata": {},
   "source": [
    "# 벡터\n",
    "\n",
    "- 1차원 배열"
   ]
  },
  {
   "cell_type": "code",
   "execution_count": 215,
   "id": "439bfa07",
   "metadata": {},
   "outputs": [],
   "source": [
    "vector = np.array([43])"
   ]
  },
  {
   "cell_type": "code",
   "execution_count": 216,
   "id": "9ca5e93f",
   "metadata": {},
   "outputs": [
    {
     "data": {
      "text/plain": [
       "array([43])"
      ]
     },
     "execution_count": 216,
     "metadata": {},
     "output_type": "execute_result"
    }
   ],
   "source": [
    "vector"
   ]
  },
  {
   "cell_type": "code",
   "execution_count": 217,
   "id": "f2bb28a7",
   "metadata": {},
   "outputs": [
    {
     "data": {
      "text/plain": [
       "numpy.ndarray"
      ]
     },
     "execution_count": 217,
     "metadata": {},
     "output_type": "execute_result"
    }
   ],
   "source": [
    "type(vector)"
   ]
  },
  {
   "cell_type": "code",
   "execution_count": 218,
   "id": "11e5c8d0",
   "metadata": {},
   "outputs": [
    {
     "data": {
      "text/plain": [
       "1"
      ]
     },
     "execution_count": 218,
     "metadata": {},
     "output_type": "execute_result"
    }
   ],
   "source": [
    "# 1차원 배열\n",
    "vector.ndim # ndim 차원 확인"
   ]
  },
  {
   "cell_type": "code",
   "execution_count": 220,
   "id": "5e096a92",
   "metadata": {},
   "outputs": [
    {
     "data": {
      "text/plain": [
       "(1,)"
      ]
     },
     "execution_count": 220,
     "metadata": {},
     "output_type": "execute_result"
    }
   ],
   "source": [
    "vector.shape # ,가 붙음으로 뒤에 다른 값이 올 수 있다는 것을 나타냄"
   ]
  },
  {
   "cell_type": "markdown",
   "id": "ac4b4a9b",
   "metadata": {},
   "source": [
    "# 배열 생성 함수"
   ]
  },
  {
   "cell_type": "markdown",
   "id": "676c8f2f",
   "metadata": {},
   "source": [
    "## zeros\n",
    "\n",
    "- 크기가 정해져있고 모든 값이 0인 배열 생성\n",
    "- 인수로는 배열의 크기를 전달"
   ]
  },
  {
   "cell_type": "code",
   "execution_count": 222,
   "id": "514ba972",
   "metadata": {},
   "outputs": [],
   "source": [
    "# 1차원 배열\n",
    "zero_arr = np.zeros(5)"
   ]
  },
  {
   "cell_type": "code",
   "execution_count": 223,
   "id": "2263659f",
   "metadata": {},
   "outputs": [
    {
     "data": {
      "text/plain": [
       "array([0., 0., 0., 0., 0.])"
      ]
     },
     "execution_count": 223,
     "metadata": {},
     "output_type": "execute_result"
    }
   ],
   "source": [
    "zero_arr"
   ]
  },
  {
   "cell_type": "code",
   "execution_count": 224,
   "id": "ab01836b",
   "metadata": {},
   "outputs": [],
   "source": [
    "# 2차원 배열\n",
    "zero_arr2 = np.zeros((2, 3))"
   ]
  },
  {
   "cell_type": "code",
   "execution_count": 226,
   "id": "1e9a707c",
   "metadata": {},
   "outputs": [
    {
     "data": {
      "text/plain": [
       "array([[0., 0., 0.],\n",
       "       [0., 0., 0.]])"
      ]
     },
     "execution_count": 226,
     "metadata": {},
     "output_type": "execute_result"
    }
   ],
   "source": [
    "zero_arr2"
   ]
  },
  {
   "cell_type": "markdown",
   "id": "b55cb986",
   "metadata": {},
   "source": [
    "- dtype 인수를 명시하면 해당 자료형 원소 배열을 생성"
   ]
  },
  {
   "cell_type": "code",
   "execution_count": 227,
   "id": "022dc7aa",
   "metadata": {},
   "outputs": [],
   "source": [
    "zero_arr3 = np.zeros((5,2), dtype = int)"
   ]
  },
  {
   "cell_type": "code",
   "execution_count": 228,
   "id": "85964757",
   "metadata": {},
   "outputs": [
    {
     "data": {
      "text/plain": [
       "array([[0, 0],\n",
       "       [0, 0],\n",
       "       [0, 0],\n",
       "       [0, 0],\n",
       "       [0, 0]])"
      ]
     },
     "execution_count": 228,
     "metadata": {},
     "output_type": "execute_result"
    }
   ],
   "source": [
    "zero_arr3"
   ]
  },
  {
   "cell_type": "markdown",
   "id": "98bc7e20",
   "metadata": {},
   "source": [
    "## ones\n",
    "\n",
    "- 모든 값이 1인 배열 생성"
   ]
  },
  {
   "cell_type": "code",
   "execution_count": 231,
   "id": "392fa898",
   "metadata": {},
   "outputs": [
    {
     "data": {
      "text/plain": [
       "array([[[1, 1, 1, 1],\n",
       "        [1, 1, 1, 1],\n",
       "        [1, 1, 1, 1]],\n",
       "\n",
       "       [[1, 1, 1, 1],\n",
       "        [1, 1, 1, 1],\n",
       "        [1, 1, 1, 1]]])"
      ]
     },
     "execution_count": 231,
     "metadata": {},
     "output_type": "execute_result"
    }
   ],
   "source": [
    "one_arr = np.ones((2, 3, 4), dtype = int)\n",
    "one_arr"
   ]
  },
  {
   "cell_type": "markdown",
   "id": "2170af2e",
   "metadata": {},
   "source": [
    "## zeros_like, ones_like\n",
    "\n",
    "- 다른 배열과 같은 크기의 배열을 생성"
   ]
  },
  {
   "cell_type": "code",
   "execution_count": 232,
   "id": "5aecbd64",
   "metadata": {},
   "outputs": [
    {
     "data": {
      "text/plain": [
       "array([[[0, 0, 0, 0],\n",
       "        [0, 0, 0, 0],\n",
       "        [0, 0, 0, 0]],\n",
       "\n",
       "       [[0, 0, 0, 0],\n",
       "        [0, 0, 0, 0],\n",
       "        [0, 0, 0, 0]]])"
      ]
     },
     "execution_count": 232,
     "metadata": {},
     "output_type": "execute_result"
    }
   ],
   "source": [
    "zero_arr4 = np.zeros_like(one_arr)\n",
    "zero_arr4"
   ]
  },
  {
   "cell_type": "code",
   "execution_count": 234,
   "id": "39966a52",
   "metadata": {},
   "outputs": [
    {
     "data": {
      "text/plain": [
       "array([[1, 1],\n",
       "       [1, 1],\n",
       "       [1, 1],\n",
       "       [1, 1],\n",
       "       [1, 1]])"
      ]
     },
     "execution_count": 234,
     "metadata": {},
     "output_type": "execute_result"
    }
   ],
   "source": [
    "one_arr2 = np.ones_like(zero_arr3)\n",
    "one_arr2"
   ]
  }
 ],
 "metadata": {
  "kernelspec": {
   "display_name": "Python 3 (ipykernel)",
   "language": "python",
   "name": "python3"
  },
  "language_info": {
   "codemirror_mode": {
    "name": "ipython",
    "version": 3
   },
   "file_extension": ".py",
   "mimetype": "text/x-python",
   "name": "python",
   "nbconvert_exporter": "python",
   "pygments_lexer": "ipython3",
   "version": "3.10.9"
  }
 },
 "nbformat": 4,
 "nbformat_minor": 5
}
